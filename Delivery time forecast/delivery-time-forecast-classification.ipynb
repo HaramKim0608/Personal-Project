{
 "cells": [
  {
   "cell_type": "code",
   "execution_count": 1,
   "id": "plastic-bracket",
   "metadata": {
    "_cell_guid": "b1076dfc-b9ad-4769-8c92-a6c4dae69d19",
    "_uuid": "8f2839f25d086af736a60e9eeb907d3b93b6e0e5",
    "execution": {
     "iopub.execute_input": "2021-04-06T11:20:03.857583Z",
     "iopub.status.busy": "2021-04-06T11:20:03.856848Z",
     "iopub.status.idle": "2021-04-06T11:20:03.872655Z",
     "shell.execute_reply": "2021-04-06T11:20:03.871801Z"
    },
    "papermill": {
     "duration": 0.055043,
     "end_time": "2021-04-06T11:20:03.872940",
     "exception": false,
     "start_time": "2021-04-06T11:20:03.817897",
     "status": "completed"
    },
    "tags": []
   },
   "outputs": [
    {
     "name": "stdout",
     "output_type": "stream",
     "text": [
      "/kaggle/input/predicting-food-delivery-time/Participants Data/Data_Train.xlsx\n",
      "/kaggle/input/predicting-food-delivery-time/Participants Data/Sample_Submission.xlsx\n",
      "/kaggle/input/predicting-food-delivery-time/Participants Data/Data_Test.xlsx\n"
     ]
    }
   ],
   "source": [
    "# This Python 3 environment comes with many helpful analytics libraries installed\n",
    "# It is defined by the kaggle/python Docker image: https://github.com/kaggle/docker-python\n",
    "# For example, here's several helpful packages to load\n",
    "\n",
    "import numpy as np # linear algebra\n",
    "import pandas as pd # data processing, CSV file I/O (e.g. pd.read_csv)\n",
    "\n",
    "# Input data files are available in the read-only \"../input/\" directory\n",
    "# For example, running this (by clicking run or pressing Shift+Enter) will list all files under the input directory\n",
    "\n",
    "import os\n",
    "for dirname, _, filenames in os.walk('/kaggle/input'):\n",
    "    for filename in filenames:\n",
    "        print(os.path.join(dirname, filename))\n",
    "\n",
    "# You can write up to 20GB to the current directory (/kaggle/working/) that gets preserved as output when you create a version using \"Save & Run All\" \n",
    "# You can also write temporary files to /kaggle/temp/, but they won't be saved outside of the current session"
   ]
  },
  {
   "cell_type": "code",
   "execution_count": 2,
   "id": "liable-laptop",
   "metadata": {
    "execution": {
     "iopub.execute_input": "2021-04-06T11:20:03.943365Z",
     "iopub.status.busy": "2021-04-06T11:20:03.942616Z",
     "iopub.status.idle": "2021-04-06T11:20:21.734891Z",
     "shell.execute_reply": "2021-04-06T11:20:21.735422Z"
    },
    "papermill": {
     "duration": 17.829439,
     "end_time": "2021-04-06T11:20:21.735622",
     "exception": false,
     "start_time": "2021-04-06T11:20:03.906183",
     "status": "completed"
    },
    "tags": []
   },
   "outputs": [
    {
     "name": "stdout",
     "output_type": "stream",
     "text": [
      "Collecting xlrd\r\n",
      "  Downloading xlrd-2.0.1-py2.py3-none-any.whl (96 kB)\r\n",
      "\u001b[K     |████████████████████████████████| 96 kB 2.3 MB/s \r\n",
      "\u001b[?25hInstalling collected packages: xlrd\r\n",
      "Successfully installed xlrd-2.0.1\r\n",
      "Collecting openpyxl\r\n",
      "  Downloading openpyxl-3.0.7-py2.py3-none-any.whl (243 kB)\r\n",
      "\u001b[K     |████████████████████████████████| 243 kB 4.5 MB/s \r\n",
      "\u001b[?25hCollecting et-xmlfile\r\n",
      "  Downloading et_xmlfile-1.0.1.tar.gz (8.4 kB)\r\n",
      "Building wheels for collected packages: et-xmlfile\r\n",
      "  Building wheel for et-xmlfile (setup.py) ... \u001b[?25l-\b \b\\\b \bdone\r\n",
      "\u001b[?25h  Created wheel for et-xmlfile: filename=et_xmlfile-1.0.1-py3-none-any.whl size=8913 sha256=732346c02ce6b240880f99cb2d8ddf4c375a1395e776154a347f8c19e263d51e\r\n",
      "  Stored in directory: /root/.cache/pip/wheels/e2/bd/55/048b4fd505716c4c298f42ee02dffd9496bb6d212b266c7f31\r\n",
      "Successfully built et-xmlfile\r\n",
      "Installing collected packages: et-xmlfile, openpyxl\r\n",
      "Successfully installed et-xmlfile-1.0.1 openpyxl-3.0.7\r\n"
     ]
    }
   ],
   "source": [
    "!pip install xlrd\n",
    "!pip install openpyxl "
   ]
  },
  {
   "cell_type": "code",
   "execution_count": 3,
   "id": "innovative-communication",
   "metadata": {
    "execution": {
     "iopub.execute_input": "2021-04-06T11:20:21.821909Z",
     "iopub.status.busy": "2021-04-06T11:20:21.820668Z",
     "iopub.status.idle": "2021-04-06T11:20:23.825375Z",
     "shell.execute_reply": "2021-04-06T11:20:23.824755Z"
    },
    "papermill": {
     "duration": 2.051126,
     "end_time": "2021-04-06T11:20:23.825571",
     "exception": false,
     "start_time": "2021-04-06T11:20:21.774445",
     "status": "completed"
    },
    "tags": []
   },
   "outputs": [],
   "source": [
    "import pandas as pd\n",
    "import numpy as np\n",
    "import matplotlib.pyplot as plt\n",
    "import seaborn as sns\n",
    "from sklearn.preprocessing import StandardScaler\n",
    "from sklearn.model_selection import train_test_split\n",
    "from sklearn.linear_model import LogisticRegression\n",
    "from sklearn.metrics import classification_report\n",
    "from sklearn.model_selection import cross_val_score\n",
    "from xgboost import XGBClassifier\n",
    "import warnings\n",
    "warnings.filterwarnings(action='ignore') \n",
    "from sklearn.neighbors import KNeighborsClassifier\n",
    "from sklearn.tree import DecisionTreeClassifier\n",
    "from sklearn.svm import SVC\n",
    "from sklearn.ensemble import RandomForestClassifier,AdaBoostClassifier,BaggingClassifier,ExtraTreesClassifier\n",
    "from sklearn.decomposition import PCA\n",
    "from sklearn.model_selection import GridSearchCV\n",
    "from sklearn.preprocessing import MinMaxScaler\n",
    "from sklearn.metrics import accuracy_score\n",
    "from sklearn.preprocessing import LabelEncoder\n",
    "le=LabelEncoder()\n",
    "import warnings\n",
    "warnings.filterwarnings('ignore')"
   ]
  },
  {
   "cell_type": "code",
   "execution_count": 4,
   "id": "innovative-columbia",
   "metadata": {
    "execution": {
     "iopub.execute_input": "2021-04-06T11:20:23.905647Z",
     "iopub.status.busy": "2021-04-06T11:20:23.904870Z",
     "iopub.status.idle": "2021-04-06T11:20:27.140374Z",
     "shell.execute_reply": "2021-04-06T11:20:27.139723Z"
    },
    "papermill": {
     "duration": 3.278025,
     "end_time": "2021-04-06T11:20:27.140530",
     "exception": false,
     "start_time": "2021-04-06T11:20:23.862505",
     "status": "completed"
    },
    "tags": []
   },
   "outputs": [],
   "source": [
    "train=pd.read_excel('/kaggle/input/predicting-food-delivery-time/Participants Data/Data_Train.xlsx')\n",
    "test=pd.read_excel('/kaggle/input/predicting-food-delivery-time/Participants Data/Data_Test.xlsx')\n",
    "sample=pd.read_excel('/kaggle/input/predicting-food-delivery-time/Participants Data/Sample_Submission.xlsx')\n"
   ]
  },
  {
   "cell_type": "code",
   "execution_count": 5,
   "id": "numeric-assets",
   "metadata": {
    "execution": {
     "iopub.execute_input": "2021-04-06T11:20:27.246235Z",
     "iopub.status.busy": "2021-04-06T11:20:27.227698Z",
     "iopub.status.idle": "2021-04-06T11:20:27.401008Z",
     "shell.execute_reply": "2021-04-06T11:20:27.401563Z"
    },
    "papermill": {
     "duration": 0.221925,
     "end_time": "2021-04-06T11:20:27.401777",
     "exception": false,
     "start_time": "2021-04-06T11:20:27.179852",
     "status": "completed"
    },
    "tags": []
   },
   "outputs": [],
   "source": [
    "# Train data preprocessing(Referring to Sabin Hashmi code for data preprocessing, I would like to thank Sabin Hashmi.)\n",
    "train['Restaurant']=le.fit_transform(train['Restaurant'])\n",
    "train['Minimum_Order']=pd.to_numeric(train['Minimum_Order'].str.replace('₹',' '))\n",
    "train['Average_Cost']=pd.to_numeric(train['Average_Cost'].str.replace('[^0-9]',''))\n",
    "train['Rating']=pd.to_numeric(train['Rating'].apply(lambda x : np.nan if x in ['Temporarily Closed','Opening Soon','-','NEW'] else x))\n",
    "train['Votes']=pd.to_numeric(train['Votes'].apply(lambda x : np.nan if x=='-' else x))\n",
    "train['Reviews']=pd.to_numeric(train['Reviews'].apply(lambda x : np.nan if x=='-' else x))\n",
    "train['Delivery_Time']=pd.to_numeric(train['Delivery_Time'].str.replace('[^0-9]',''))"
   ]
  },
  {
   "cell_type": "code",
   "execution_count": 6,
   "id": "crazy-opportunity",
   "metadata": {
    "execution": {
     "iopub.execute_input": "2021-04-06T11:20:27.505376Z",
     "iopub.status.busy": "2021-04-06T11:20:27.504282Z",
     "iopub.status.idle": "2021-04-06T11:20:27.560233Z",
     "shell.execute_reply": "2021-04-06T11:20:27.560951Z"
    },
    "papermill": {
     "duration": 0.110386,
     "end_time": "2021-04-06T11:20:27.561154",
     "exception": false,
     "start_time": "2021-04-06T11:20:27.450768",
     "status": "completed"
    },
    "tags": []
   },
   "outputs": [],
   "source": [
    "# Test data preprocessing\n",
    "test['Restaurant']=le.fit_transform(test['Restaurant'])\n",
    "test['Minimum_Order']=pd.to_numeric(test['Minimum_Order'].str.replace('₹',' '))\n",
    "test['Average_Cost']=pd.to_numeric(test['Average_Cost'].str.replace('[^0-9]',''))\n",
    "test['Rating']=pd.to_numeric(test['Rating'].apply(lambda x : np.nan if x in ['Temporarily Closed','Opening Soon','-','NEW'] else x))\n",
    "test['Votes']=pd.to_numeric(test['Votes'].apply(lambda x : np.nan if x=='-' else x))\n",
    "test['Reviews']=pd.to_numeric(test['Reviews'].apply(lambda x : np.nan if x=='-' else x))\n",
    "test['Rating']=test['Rating'].fillna(test['Rating'].median())\n",
    "test['Votes']=test['Votes'].fillna(test['Votes'].mode()[0])\n",
    "test['Reviews']=test['Reviews'].fillna(test['Reviews'].median())\n",
    "test['Average_Cost']=test['Average_Cost'].fillna(test['Average_Cost'].mean())\n",
    "sample['Delivery_Time'] = sample['Delivery_Time'].str.replace(' minutes','').astype('int64')"
   ]
  },
  {
   "cell_type": "code",
   "execution_count": 7,
   "id": "similar-modeling",
   "metadata": {
    "execution": {
     "iopub.execute_input": "2021-04-06T11:20:27.639689Z",
     "iopub.status.busy": "2021-04-06T11:20:27.638714Z",
     "iopub.status.idle": "2021-04-06T11:21:54.870107Z",
     "shell.execute_reply": "2021-04-06T11:21:54.870632Z"
    },
    "papermill": {
     "duration": 87.272188,
     "end_time": "2021-04-06T11:21:54.870815",
     "exception": false,
     "start_time": "2021-04-06T11:20:27.598627",
     "status": "completed"
    },
    "tags": []
   },
   "outputs": [
    {
     "data": {
      "text/html": [
       "<div>\n",
       "<style scoped>\n",
       "    .dataframe tbody tr th:only-of-type {\n",
       "        vertical-align: middle;\n",
       "    }\n",
       "\n",
       "    .dataframe tbody tr th {\n",
       "        vertical-align: top;\n",
       "    }\n",
       "\n",
       "    .dataframe thead th {\n",
       "        text-align: right;\n",
       "    }\n",
       "</style>\n",
       "<table border=\"1\" class=\"dataframe\">\n",
       "  <thead>\n",
       "    <tr style=\"text-align: right;\">\n",
       "      <th></th>\n",
       "      <th>FTI College</th>\n",
       "      <th>Law College Road</th>\n",
       "      <th>Pune</th>\n",
       "      <th>Sector 3</th>\n",
       "      <th>Marathalli</th>\n",
       "      <th>Mumbai Central</th>\n",
       "      <th>Sector 1</th>\n",
       "      <th>Noida</th>\n",
       "      <th>Rmz Centennial</th>\n",
       "      <th>I Gate</th>\n",
       "      <th>...</th>\n",
       "      <th>Nathan Road</th>\n",
       "      <th>Mangaldas Road</th>\n",
       "      <th>Panjetan Colony</th>\n",
       "      <th>Raja Bazar</th>\n",
       "      <th>Jaya Nagar</th>\n",
       "      <th>Saidabad</th>\n",
       "      <th>Noorkhan Bazaar</th>\n",
       "      <th>Musi Nagar</th>\n",
       "      <th>BTM Layout 1</th>\n",
       "      <th>Electronic City</th>\n",
       "    </tr>\n",
       "  </thead>\n",
       "  <tbody>\n",
       "    <tr>\n",
       "      <th>0</th>\n",
       "      <td>1.0</td>\n",
       "      <td>1.0</td>\n",
       "      <td>1.0</td>\n",
       "      <td>NaN</td>\n",
       "      <td>NaN</td>\n",
       "      <td>NaN</td>\n",
       "      <td>NaN</td>\n",
       "      <td>NaN</td>\n",
       "      <td>NaN</td>\n",
       "      <td>NaN</td>\n",
       "      <td>...</td>\n",
       "      <td>NaN</td>\n",
       "      <td>NaN</td>\n",
       "      <td>NaN</td>\n",
       "      <td>NaN</td>\n",
       "      <td>NaN</td>\n",
       "      <td>NaN</td>\n",
       "      <td>NaN</td>\n",
       "      <td>NaN</td>\n",
       "      <td>NaN</td>\n",
       "      <td>NaN</td>\n",
       "    </tr>\n",
       "    <tr>\n",
       "      <th>1</th>\n",
       "      <td>NaN</td>\n",
       "      <td>NaN</td>\n",
       "      <td>NaN</td>\n",
       "      <td>1.0</td>\n",
       "      <td>1.0</td>\n",
       "      <td>NaN</td>\n",
       "      <td>NaN</td>\n",
       "      <td>NaN</td>\n",
       "      <td>NaN</td>\n",
       "      <td>NaN</td>\n",
       "      <td>...</td>\n",
       "      <td>NaN</td>\n",
       "      <td>NaN</td>\n",
       "      <td>NaN</td>\n",
       "      <td>NaN</td>\n",
       "      <td>NaN</td>\n",
       "      <td>NaN</td>\n",
       "      <td>NaN</td>\n",
       "      <td>NaN</td>\n",
       "      <td>NaN</td>\n",
       "      <td>NaN</td>\n",
       "    </tr>\n",
       "    <tr>\n",
       "      <th>2</th>\n",
       "      <td>NaN</td>\n",
       "      <td>NaN</td>\n",
       "      <td>NaN</td>\n",
       "      <td>NaN</td>\n",
       "      <td>NaN</td>\n",
       "      <td>1.0</td>\n",
       "      <td>NaN</td>\n",
       "      <td>NaN</td>\n",
       "      <td>NaN</td>\n",
       "      <td>NaN</td>\n",
       "      <td>...</td>\n",
       "      <td>NaN</td>\n",
       "      <td>NaN</td>\n",
       "      <td>NaN</td>\n",
       "      <td>NaN</td>\n",
       "      <td>NaN</td>\n",
       "      <td>NaN</td>\n",
       "      <td>NaN</td>\n",
       "      <td>NaN</td>\n",
       "      <td>NaN</td>\n",
       "      <td>NaN</td>\n",
       "    </tr>\n",
       "    <tr>\n",
       "      <th>3</th>\n",
       "      <td>NaN</td>\n",
       "      <td>NaN</td>\n",
       "      <td>NaN</td>\n",
       "      <td>NaN</td>\n",
       "      <td>NaN</td>\n",
       "      <td>NaN</td>\n",
       "      <td>1.0</td>\n",
       "      <td>1.0</td>\n",
       "      <td>NaN</td>\n",
       "      <td>NaN</td>\n",
       "      <td>...</td>\n",
       "      <td>NaN</td>\n",
       "      <td>NaN</td>\n",
       "      <td>NaN</td>\n",
       "      <td>NaN</td>\n",
       "      <td>NaN</td>\n",
       "      <td>NaN</td>\n",
       "      <td>NaN</td>\n",
       "      <td>NaN</td>\n",
       "      <td>NaN</td>\n",
       "      <td>NaN</td>\n",
       "    </tr>\n",
       "    <tr>\n",
       "      <th>4</th>\n",
       "      <td>NaN</td>\n",
       "      <td>NaN</td>\n",
       "      <td>NaN</td>\n",
       "      <td>NaN</td>\n",
       "      <td>NaN</td>\n",
       "      <td>NaN</td>\n",
       "      <td>NaN</td>\n",
       "      <td>NaN</td>\n",
       "      <td>1.0</td>\n",
       "      <td>1.0</td>\n",
       "      <td>...</td>\n",
       "      <td>NaN</td>\n",
       "      <td>NaN</td>\n",
       "      <td>NaN</td>\n",
       "      <td>NaN</td>\n",
       "      <td>NaN</td>\n",
       "      <td>NaN</td>\n",
       "      <td>NaN</td>\n",
       "      <td>NaN</td>\n",
       "      <td>NaN</td>\n",
       "      <td>NaN</td>\n",
       "    </tr>\n",
       "  </tbody>\n",
       "</table>\n",
       "<p>5 rows × 65 columns</p>\n",
       "</div>"
      ],
      "text/plain": [
       "   FTI College  Law College Road  Pune  Sector 3  Marathalli  Mumbai Central  \\\n",
       "0          1.0               1.0   1.0       NaN         NaN             NaN   \n",
       "1          NaN               NaN   NaN       1.0         1.0             NaN   \n",
       "2          NaN               NaN   NaN       NaN         NaN             1.0   \n",
       "3          NaN               NaN   NaN       NaN         NaN             NaN   \n",
       "4          NaN               NaN   NaN       NaN         NaN             NaN   \n",
       "\n",
       "   Sector 1  Noida  Rmz Centennial  I Gate  ...  Nathan Road  Mangaldas Road  \\\n",
       "0       NaN    NaN             NaN     NaN  ...          NaN             NaN   \n",
       "1       NaN    NaN             NaN     NaN  ...          NaN             NaN   \n",
       "2       NaN    NaN             NaN     NaN  ...          NaN             NaN   \n",
       "3       1.0    1.0             NaN     NaN  ...          NaN             NaN   \n",
       "4       NaN    NaN             1.0     1.0  ...          NaN             NaN   \n",
       "\n",
       "   Panjetan Colony  Raja Bazar  Jaya Nagar  Saidabad  Noorkhan Bazaar  \\\n",
       "0              NaN         NaN         NaN       NaN              NaN   \n",
       "1              NaN         NaN         NaN       NaN              NaN   \n",
       "2              NaN         NaN         NaN       NaN              NaN   \n",
       "3              NaN         NaN         NaN       NaN              NaN   \n",
       "4              NaN         NaN         NaN       NaN              NaN   \n",
       "\n",
       "   Musi Nagar  BTM Layout 1  Electronic City  \n",
       "0         NaN           NaN              NaN  \n",
       "1         NaN           NaN              NaN  \n",
       "2         NaN           NaN              NaN  \n",
       "3         NaN           NaN              NaN  \n",
       "4         NaN           NaN              NaN  \n",
       "\n",
       "[5 rows x 65 columns]"
      ]
     },
     "execution_count": 7,
     "metadata": {},
     "output_type": "execute_result"
    }
   ],
   "source": [
    "# train location data one hot encoding\n",
    "for i in range(len(train)):\n",
    "    train['Location'][i] = train['Location'][i].split(',')\n",
    "    train['Location'][i] = [line.strip() for line in train['Location'][i]]\n",
    "\n",
    "train_location_df = pd.DataFrame()\n",
    "\n",
    "for n in range(len(train)):\n",
    "    location = train['Location'][n]\n",
    "    location_df = pd.DataFrame()\n",
    "    for i in location:\n",
    "        location_df[i] = [1]\n",
    "        \n",
    "    train_location_df = pd.concat([train_location_df, location_df], ignore_index=True)\n",
    "\n",
    "train_location_df.rename(columns ={\"\" : 'None'}, inplace = True )\n",
    "train_location_df.head()"
   ]
  },
  {
   "cell_type": "code",
   "execution_count": 8,
   "id": "suitable-sport",
   "metadata": {
    "execution": {
     "iopub.execute_input": "2021-04-06T11:21:54.951245Z",
     "iopub.status.busy": "2021-04-06T11:21:54.950222Z",
     "iopub.status.idle": "2021-04-06T11:23:30.877613Z",
     "shell.execute_reply": "2021-04-06T11:23:30.878157Z"
    },
    "papermill": {
     "duration": 95.969547,
     "end_time": "2021-04-06T11:23:30.878351",
     "exception": false,
     "start_time": "2021-04-06T11:21:54.908804",
     "status": "completed"
    },
    "tags": []
   },
   "outputs": [
    {
     "data": {
      "text/html": [
       "<div>\n",
       "<style scoped>\n",
       "    .dataframe tbody tr th:only-of-type {\n",
       "        vertical-align: middle;\n",
       "    }\n",
       "\n",
       "    .dataframe tbody tr th {\n",
       "        vertical-align: top;\n",
       "    }\n",
       "\n",
       "    .dataframe thead th {\n",
       "        text-align: right;\n",
       "    }\n",
       "</style>\n",
       "<table border=\"1\" class=\"dataframe\">\n",
       "  <thead>\n",
       "    <tr style=\"text-align: right;\">\n",
       "      <th></th>\n",
       "      <th>Fast Food</th>\n",
       "      <th>Rolls</th>\n",
       "      <th>Burger</th>\n",
       "      <th>Salad</th>\n",
       "      <th>Wraps</th>\n",
       "      <th>Ice Cream</th>\n",
       "      <th>Desserts</th>\n",
       "      <th>Italian</th>\n",
       "      <th>Street Food</th>\n",
       "      <th>Mughlai</th>\n",
       "      <th>...</th>\n",
       "      <th>Nepalese</th>\n",
       "      <th>Indian</th>\n",
       "      <th>Tex-Mex</th>\n",
       "      <th>Hot dogs</th>\n",
       "      <th>South American</th>\n",
       "      <th>Middle Eastern</th>\n",
       "      <th>African</th>\n",
       "      <th>Turkish</th>\n",
       "      <th>Israeli</th>\n",
       "      <th>Greek</th>\n",
       "    </tr>\n",
       "  </thead>\n",
       "  <tbody>\n",
       "    <tr>\n",
       "      <th>0</th>\n",
       "      <td>1.0</td>\n",
       "      <td>1.0</td>\n",
       "      <td>1.0</td>\n",
       "      <td>1.0</td>\n",
       "      <td>1.0</td>\n",
       "      <td>NaN</td>\n",
       "      <td>NaN</td>\n",
       "      <td>NaN</td>\n",
       "      <td>NaN</td>\n",
       "      <td>NaN</td>\n",
       "      <td>...</td>\n",
       "      <td>NaN</td>\n",
       "      <td>NaN</td>\n",
       "      <td>NaN</td>\n",
       "      <td>NaN</td>\n",
       "      <td>NaN</td>\n",
       "      <td>NaN</td>\n",
       "      <td>NaN</td>\n",
       "      <td>NaN</td>\n",
       "      <td>NaN</td>\n",
       "      <td>NaN</td>\n",
       "    </tr>\n",
       "    <tr>\n",
       "      <th>1</th>\n",
       "      <td>NaN</td>\n",
       "      <td>NaN</td>\n",
       "      <td>NaN</td>\n",
       "      <td>NaN</td>\n",
       "      <td>NaN</td>\n",
       "      <td>1.0</td>\n",
       "      <td>1.0</td>\n",
       "      <td>NaN</td>\n",
       "      <td>NaN</td>\n",
       "      <td>NaN</td>\n",
       "      <td>...</td>\n",
       "      <td>NaN</td>\n",
       "      <td>NaN</td>\n",
       "      <td>NaN</td>\n",
       "      <td>NaN</td>\n",
       "      <td>NaN</td>\n",
       "      <td>NaN</td>\n",
       "      <td>NaN</td>\n",
       "      <td>NaN</td>\n",
       "      <td>NaN</td>\n",
       "      <td>NaN</td>\n",
       "    </tr>\n",
       "    <tr>\n",
       "      <th>2</th>\n",
       "      <td>1.0</td>\n",
       "      <td>NaN</td>\n",
       "      <td>NaN</td>\n",
       "      <td>NaN</td>\n",
       "      <td>NaN</td>\n",
       "      <td>NaN</td>\n",
       "      <td>NaN</td>\n",
       "      <td>1.0</td>\n",
       "      <td>1.0</td>\n",
       "      <td>NaN</td>\n",
       "      <td>...</td>\n",
       "      <td>NaN</td>\n",
       "      <td>NaN</td>\n",
       "      <td>NaN</td>\n",
       "      <td>NaN</td>\n",
       "      <td>NaN</td>\n",
       "      <td>NaN</td>\n",
       "      <td>NaN</td>\n",
       "      <td>NaN</td>\n",
       "      <td>NaN</td>\n",
       "      <td>NaN</td>\n",
       "    </tr>\n",
       "    <tr>\n",
       "      <th>3</th>\n",
       "      <td>NaN</td>\n",
       "      <td>NaN</td>\n",
       "      <td>NaN</td>\n",
       "      <td>NaN</td>\n",
       "      <td>NaN</td>\n",
       "      <td>NaN</td>\n",
       "      <td>NaN</td>\n",
       "      <td>NaN</td>\n",
       "      <td>NaN</td>\n",
       "      <td>1.0</td>\n",
       "      <td>...</td>\n",
       "      <td>NaN</td>\n",
       "      <td>NaN</td>\n",
       "      <td>NaN</td>\n",
       "      <td>NaN</td>\n",
       "      <td>NaN</td>\n",
       "      <td>NaN</td>\n",
       "      <td>NaN</td>\n",
       "      <td>NaN</td>\n",
       "      <td>NaN</td>\n",
       "      <td>NaN</td>\n",
       "    </tr>\n",
       "    <tr>\n",
       "      <th>4</th>\n",
       "      <td>NaN</td>\n",
       "      <td>NaN</td>\n",
       "      <td>NaN</td>\n",
       "      <td>NaN</td>\n",
       "      <td>NaN</td>\n",
       "      <td>NaN</td>\n",
       "      <td>NaN</td>\n",
       "      <td>NaN</td>\n",
       "      <td>NaN</td>\n",
       "      <td>NaN</td>\n",
       "      <td>...</td>\n",
       "      <td>NaN</td>\n",
       "      <td>NaN</td>\n",
       "      <td>NaN</td>\n",
       "      <td>NaN</td>\n",
       "      <td>NaN</td>\n",
       "      <td>NaN</td>\n",
       "      <td>NaN</td>\n",
       "      <td>NaN</td>\n",
       "      <td>NaN</td>\n",
       "      <td>NaN</td>\n",
       "    </tr>\n",
       "  </tbody>\n",
       "</table>\n",
       "<p>5 rows × 101 columns</p>\n",
       "</div>"
      ],
      "text/plain": [
       "   Fast Food  Rolls  Burger  Salad  Wraps  Ice Cream  Desserts  Italian  \\\n",
       "0        1.0    1.0     1.0    1.0    1.0        NaN       NaN      NaN   \n",
       "1        NaN    NaN     NaN    NaN    NaN        1.0       1.0      NaN   \n",
       "2        1.0    NaN     NaN    NaN    NaN        NaN       NaN      1.0   \n",
       "3        NaN    NaN     NaN    NaN    NaN        NaN       NaN      NaN   \n",
       "4        NaN    NaN     NaN    NaN    NaN        NaN       NaN      NaN   \n",
       "\n",
       "   Street Food  Mughlai  ...  Nepalese  Indian  Tex-Mex  Hot dogs  \\\n",
       "0          NaN      NaN  ...       NaN     NaN      NaN       NaN   \n",
       "1          NaN      NaN  ...       NaN     NaN      NaN       NaN   \n",
       "2          1.0      NaN  ...       NaN     NaN      NaN       NaN   \n",
       "3          NaN      1.0  ...       NaN     NaN      NaN       NaN   \n",
       "4          NaN      NaN  ...       NaN     NaN      NaN       NaN   \n",
       "\n",
       "   South American  Middle Eastern  African  Turkish  Israeli  Greek  \n",
       "0             NaN             NaN      NaN      NaN      NaN    NaN  \n",
       "1             NaN             NaN      NaN      NaN      NaN    NaN  \n",
       "2             NaN             NaN      NaN      NaN      NaN    NaN  \n",
       "3             NaN             NaN      NaN      NaN      NaN    NaN  \n",
       "4             NaN             NaN      NaN      NaN      NaN    NaN  \n",
       "\n",
       "[5 rows x 101 columns]"
      ]
     },
     "execution_count": 8,
     "metadata": {},
     "output_type": "execute_result"
    }
   ],
   "source": [
    "# train cuisines data one hot encoding\n",
    "for i in range(len(train)):\n",
    "    train['Cuisines'][i] = train['Cuisines'][i].split(',')\n",
    "    train['Cuisines'][i] = [line.strip() for line in train['Cuisines'][i]]\n",
    "\n",
    "train_cuisines_df = pd.DataFrame()\n",
    "\n",
    "for n in range(len(train)):\n",
    "    cuisines = train['Cuisines'][n]\n",
    "    cuisines_df = pd.DataFrame()\n",
    "    for i in cuisines:\n",
    "        cuisines_df[i] = [1]\n",
    "        \n",
    "    train_cuisines_df = pd.concat([train_cuisines_df, cuisines_df], ignore_index=True)\n",
    "\n",
    "train_cuisines_df.rename(columns ={\"\" : 'None'}, inplace = True )\n",
    "train_cuisines_df.head()"
   ]
  },
  {
   "cell_type": "code",
   "execution_count": 9,
   "id": "joint-mortgage",
   "metadata": {
    "execution": {
     "iopub.execute_input": "2021-04-06T11:23:31.322279Z",
     "iopub.status.busy": "2021-04-06T11:23:31.295426Z",
     "iopub.status.idle": "2021-04-06T11:23:43.974748Z",
     "shell.execute_reply": "2021-04-06T11:23:43.973992Z"
    },
    "papermill": {
     "duration": 13.057877,
     "end_time": "2021-04-06T11:23:43.974889",
     "exception": false,
     "start_time": "2021-04-06T11:23:30.917012",
     "status": "completed"
    },
    "tags": []
   },
   "outputs": [
    {
     "data": {
      "text/html": [
       "<div>\n",
       "<style scoped>\n",
       "    .dataframe tbody tr th:only-of-type {\n",
       "        vertical-align: middle;\n",
       "    }\n",
       "\n",
       "    .dataframe tbody tr th {\n",
       "        vertical-align: top;\n",
       "    }\n",
       "\n",
       "    .dataframe thead th {\n",
       "        text-align: right;\n",
       "    }\n",
       "</style>\n",
       "<table border=\"1\" class=\"dataframe\">\n",
       "  <thead>\n",
       "    <tr style=\"text-align: right;\">\n",
       "      <th></th>\n",
       "      <th>Mico Layout</th>\n",
       "      <th>Stage 2</th>\n",
       "      <th>BTM Layout</th>\n",
       "      <th>Bangalore</th>\n",
       "      <th>Sector 1</th>\n",
       "      <th>Noida</th>\n",
       "      <th>Babarpur</th>\n",
       "      <th>New Delhi</th>\n",
       "      <th>Delhi</th>\n",
       "      <th>Yerawada</th>\n",
       "      <th>...</th>\n",
       "      <th>Panjetan Colony</th>\n",
       "      <th>Chatta Bazaar</th>\n",
       "      <th>Jaya Nagar</th>\n",
       "      <th>Saidabad</th>\n",
       "      <th>Gora Bazar</th>\n",
       "      <th>Rajbari</th>\n",
       "      <th>North Dumdum</th>\n",
       "      <th>Hyderabad Public School</th>\n",
       "      <th>Begumpet</th>\n",
       "      <th>Noorkhan Bazaar</th>\n",
       "    </tr>\n",
       "  </thead>\n",
       "  <tbody>\n",
       "    <tr>\n",
       "      <th>0</th>\n",
       "      <td>1.0</td>\n",
       "      <td>1.0</td>\n",
       "      <td>1.0</td>\n",
       "      <td>1.0</td>\n",
       "      <td>NaN</td>\n",
       "      <td>NaN</td>\n",
       "      <td>NaN</td>\n",
       "      <td>NaN</td>\n",
       "      <td>NaN</td>\n",
       "      <td>NaN</td>\n",
       "      <td>...</td>\n",
       "      <td>NaN</td>\n",
       "      <td>NaN</td>\n",
       "      <td>NaN</td>\n",
       "      <td>NaN</td>\n",
       "      <td>NaN</td>\n",
       "      <td>NaN</td>\n",
       "      <td>NaN</td>\n",
       "      <td>NaN</td>\n",
       "      <td>NaN</td>\n",
       "      <td>NaN</td>\n",
       "    </tr>\n",
       "    <tr>\n",
       "      <th>1</th>\n",
       "      <td>1.0</td>\n",
       "      <td>1.0</td>\n",
       "      <td>1.0</td>\n",
       "      <td>1.0</td>\n",
       "      <td>NaN</td>\n",
       "      <td>NaN</td>\n",
       "      <td>NaN</td>\n",
       "      <td>NaN</td>\n",
       "      <td>NaN</td>\n",
       "      <td>NaN</td>\n",
       "      <td>...</td>\n",
       "      <td>NaN</td>\n",
       "      <td>NaN</td>\n",
       "      <td>NaN</td>\n",
       "      <td>NaN</td>\n",
       "      <td>NaN</td>\n",
       "      <td>NaN</td>\n",
       "      <td>NaN</td>\n",
       "      <td>NaN</td>\n",
       "      <td>NaN</td>\n",
       "      <td>NaN</td>\n",
       "    </tr>\n",
       "    <tr>\n",
       "      <th>2</th>\n",
       "      <td>NaN</td>\n",
       "      <td>NaN</td>\n",
       "      <td>NaN</td>\n",
       "      <td>NaN</td>\n",
       "      <td>1.0</td>\n",
       "      <td>1.0</td>\n",
       "      <td>NaN</td>\n",
       "      <td>NaN</td>\n",
       "      <td>NaN</td>\n",
       "      <td>NaN</td>\n",
       "      <td>...</td>\n",
       "      <td>NaN</td>\n",
       "      <td>NaN</td>\n",
       "      <td>NaN</td>\n",
       "      <td>NaN</td>\n",
       "      <td>NaN</td>\n",
       "      <td>NaN</td>\n",
       "      <td>NaN</td>\n",
       "      <td>NaN</td>\n",
       "      <td>NaN</td>\n",
       "      <td>NaN</td>\n",
       "    </tr>\n",
       "    <tr>\n",
       "      <th>3</th>\n",
       "      <td>NaN</td>\n",
       "      <td>NaN</td>\n",
       "      <td>NaN</td>\n",
       "      <td>NaN</td>\n",
       "      <td>NaN</td>\n",
       "      <td>NaN</td>\n",
       "      <td>1.0</td>\n",
       "      <td>1.0</td>\n",
       "      <td>1.0</td>\n",
       "      <td>NaN</td>\n",
       "      <td>...</td>\n",
       "      <td>NaN</td>\n",
       "      <td>NaN</td>\n",
       "      <td>NaN</td>\n",
       "      <td>NaN</td>\n",
       "      <td>NaN</td>\n",
       "      <td>NaN</td>\n",
       "      <td>NaN</td>\n",
       "      <td>NaN</td>\n",
       "      <td>NaN</td>\n",
       "      <td>NaN</td>\n",
       "    </tr>\n",
       "    <tr>\n",
       "      <th>4</th>\n",
       "      <td>NaN</td>\n",
       "      <td>NaN</td>\n",
       "      <td>NaN</td>\n",
       "      <td>NaN</td>\n",
       "      <td>1.0</td>\n",
       "      <td>1.0</td>\n",
       "      <td>NaN</td>\n",
       "      <td>NaN</td>\n",
       "      <td>NaN</td>\n",
       "      <td>NaN</td>\n",
       "      <td>...</td>\n",
       "      <td>NaN</td>\n",
       "      <td>NaN</td>\n",
       "      <td>NaN</td>\n",
       "      <td>NaN</td>\n",
       "      <td>NaN</td>\n",
       "      <td>NaN</td>\n",
       "      <td>NaN</td>\n",
       "      <td>NaN</td>\n",
       "      <td>NaN</td>\n",
       "      <td>NaN</td>\n",
       "    </tr>\n",
       "  </tbody>\n",
       "</table>\n",
       "<p>5 rows × 65 columns</p>\n",
       "</div>"
      ],
      "text/plain": [
       "   Mico Layout  Stage 2  BTM Layout  Bangalore  Sector 1  Noida  Babarpur  \\\n",
       "0          1.0      1.0         1.0        1.0       NaN    NaN       NaN   \n",
       "1          1.0      1.0         1.0        1.0       NaN    NaN       NaN   \n",
       "2          NaN      NaN         NaN        NaN       1.0    1.0       NaN   \n",
       "3          NaN      NaN         NaN        NaN       NaN    NaN       1.0   \n",
       "4          NaN      NaN         NaN        NaN       1.0    1.0       NaN   \n",
       "\n",
       "   New Delhi  Delhi  Yerawada  ...  Panjetan Colony  Chatta Bazaar  \\\n",
       "0        NaN    NaN       NaN  ...              NaN            NaN   \n",
       "1        NaN    NaN       NaN  ...              NaN            NaN   \n",
       "2        NaN    NaN       NaN  ...              NaN            NaN   \n",
       "3        1.0    1.0       NaN  ...              NaN            NaN   \n",
       "4        NaN    NaN       NaN  ...              NaN            NaN   \n",
       "\n",
       "   Jaya Nagar  Saidabad  Gora Bazar  Rajbari  North Dumdum  \\\n",
       "0         NaN       NaN         NaN      NaN           NaN   \n",
       "1         NaN       NaN         NaN      NaN           NaN   \n",
       "2         NaN       NaN         NaN      NaN           NaN   \n",
       "3         NaN       NaN         NaN      NaN           NaN   \n",
       "4         NaN       NaN         NaN      NaN           NaN   \n",
       "\n",
       "   Hyderabad Public School  Begumpet  Noorkhan Bazaar  \n",
       "0                      NaN       NaN              NaN  \n",
       "1                      NaN       NaN              NaN  \n",
       "2                      NaN       NaN              NaN  \n",
       "3                      NaN       NaN              NaN  \n",
       "4                      NaN       NaN              NaN  \n",
       "\n",
       "[5 rows x 65 columns]"
      ]
     },
     "execution_count": 9,
     "metadata": {},
     "output_type": "execute_result"
    }
   ],
   "source": [
    "# test location data one hot encoding\n",
    "for i in range(len(test)):\n",
    "    test['Location'][i] = test['Location'][i].split(',')\n",
    "    test['Location'][i] = [line.strip() for line in test['Location'][i]]\n",
    "\n",
    "test_location_df = pd.DataFrame()\n",
    "\n",
    "for n in range(len(test)):\n",
    "    location = test['Location'][n]\n",
    "    location_df = pd.DataFrame()\n",
    "    for i in location:\n",
    "        location_df[i] = [1]\n",
    "        \n",
    "    test_location_df = pd.concat([test_location_df, location_df], ignore_index=True)\n",
    "\n",
    "test_location_df.rename(columns ={\"\" : 'None'}, inplace = True )\n",
    "test_location_df.head()"
   ]
  },
  {
   "cell_type": "code",
   "execution_count": 10,
   "id": "blind-jersey",
   "metadata": {
    "execution": {
     "iopub.execute_input": "2021-04-06T11:23:44.074193Z",
     "iopub.status.busy": "2021-04-06T11:23:44.073397Z",
     "iopub.status.idle": "2021-04-06T11:23:57.721589Z",
     "shell.execute_reply": "2021-04-06T11:23:57.722119Z"
    },
    "papermill": {
     "duration": 13.706179,
     "end_time": "2021-04-06T11:23:57.722298",
     "exception": false,
     "start_time": "2021-04-06T11:23:44.016119",
     "status": "completed"
    },
    "tags": []
   },
   "outputs": [
    {
     "data": {
      "text/html": [
       "<div>\n",
       "<style scoped>\n",
       "    .dataframe tbody tr th:only-of-type {\n",
       "        vertical-align: middle;\n",
       "    }\n",
       "\n",
       "    .dataframe tbody tr th {\n",
       "        vertical-align: top;\n",
       "    }\n",
       "\n",
       "    .dataframe thead th {\n",
       "        text-align: right;\n",
       "    }\n",
       "</style>\n",
       "<table border=\"1\" class=\"dataframe\">\n",
       "  <thead>\n",
       "    <tr style=\"text-align: right;\">\n",
       "      <th></th>\n",
       "      <th>North Indian</th>\n",
       "      <th>Chinese</th>\n",
       "      <th>Assamese</th>\n",
       "      <th>Biryani</th>\n",
       "      <th>Kebab</th>\n",
       "      <th>Fast Food</th>\n",
       "      <th>Mithai</th>\n",
       "      <th>South Indian</th>\n",
       "      <th>Kerala</th>\n",
       "      <th>Seafood</th>\n",
       "      <th>...</th>\n",
       "      <th>Vietnamese</th>\n",
       "      <th>Awadhi</th>\n",
       "      <th>Indian</th>\n",
       "      <th>French</th>\n",
       "      <th>German</th>\n",
       "      <th>Spanish</th>\n",
       "      <th>North Eastern</th>\n",
       "      <th>Chettinad</th>\n",
       "      <th>African</th>\n",
       "      <th>Iranian</th>\n",
       "    </tr>\n",
       "  </thead>\n",
       "  <tbody>\n",
       "    <tr>\n",
       "      <th>0</th>\n",
       "      <td>1.0</td>\n",
       "      <td>1.0</td>\n",
       "      <td>1.0</td>\n",
       "      <td>NaN</td>\n",
       "      <td>NaN</td>\n",
       "      <td>NaN</td>\n",
       "      <td>NaN</td>\n",
       "      <td>NaN</td>\n",
       "      <td>NaN</td>\n",
       "      <td>NaN</td>\n",
       "      <td>...</td>\n",
       "      <td>NaN</td>\n",
       "      <td>NaN</td>\n",
       "      <td>NaN</td>\n",
       "      <td>NaN</td>\n",
       "      <td>NaN</td>\n",
       "      <td>NaN</td>\n",
       "      <td>NaN</td>\n",
       "      <td>NaN</td>\n",
       "      <td>NaN</td>\n",
       "      <td>NaN</td>\n",
       "    </tr>\n",
       "    <tr>\n",
       "      <th>1</th>\n",
       "      <td>NaN</td>\n",
       "      <td>NaN</td>\n",
       "      <td>NaN</td>\n",
       "      <td>1.0</td>\n",
       "      <td>1.0</td>\n",
       "      <td>NaN</td>\n",
       "      <td>NaN</td>\n",
       "      <td>NaN</td>\n",
       "      <td>NaN</td>\n",
       "      <td>NaN</td>\n",
       "      <td>...</td>\n",
       "      <td>NaN</td>\n",
       "      <td>NaN</td>\n",
       "      <td>NaN</td>\n",
       "      <td>NaN</td>\n",
       "      <td>NaN</td>\n",
       "      <td>NaN</td>\n",
       "      <td>NaN</td>\n",
       "      <td>NaN</td>\n",
       "      <td>NaN</td>\n",
       "      <td>NaN</td>\n",
       "    </tr>\n",
       "    <tr>\n",
       "      <th>2</th>\n",
       "      <td>NaN</td>\n",
       "      <td>NaN</td>\n",
       "      <td>NaN</td>\n",
       "      <td>NaN</td>\n",
       "      <td>NaN</td>\n",
       "      <td>1.0</td>\n",
       "      <td>NaN</td>\n",
       "      <td>NaN</td>\n",
       "      <td>NaN</td>\n",
       "      <td>NaN</td>\n",
       "      <td>...</td>\n",
       "      <td>NaN</td>\n",
       "      <td>NaN</td>\n",
       "      <td>NaN</td>\n",
       "      <td>NaN</td>\n",
       "      <td>NaN</td>\n",
       "      <td>NaN</td>\n",
       "      <td>NaN</td>\n",
       "      <td>NaN</td>\n",
       "      <td>NaN</td>\n",
       "      <td>NaN</td>\n",
       "    </tr>\n",
       "    <tr>\n",
       "      <th>3</th>\n",
       "      <td>1.0</td>\n",
       "      <td>1.0</td>\n",
       "      <td>NaN</td>\n",
       "      <td>NaN</td>\n",
       "      <td>NaN</td>\n",
       "      <td>1.0</td>\n",
       "      <td>1.0</td>\n",
       "      <td>1.0</td>\n",
       "      <td>NaN</td>\n",
       "      <td>NaN</td>\n",
       "      <td>...</td>\n",
       "      <td>NaN</td>\n",
       "      <td>NaN</td>\n",
       "      <td>NaN</td>\n",
       "      <td>NaN</td>\n",
       "      <td>NaN</td>\n",
       "      <td>NaN</td>\n",
       "      <td>NaN</td>\n",
       "      <td>NaN</td>\n",
       "      <td>NaN</td>\n",
       "      <td>NaN</td>\n",
       "    </tr>\n",
       "    <tr>\n",
       "      <th>4</th>\n",
       "      <td>NaN</td>\n",
       "      <td>1.0</td>\n",
       "      <td>NaN</td>\n",
       "      <td>NaN</td>\n",
       "      <td>NaN</td>\n",
       "      <td>1.0</td>\n",
       "      <td>NaN</td>\n",
       "      <td>NaN</td>\n",
       "      <td>NaN</td>\n",
       "      <td>NaN</td>\n",
       "      <td>...</td>\n",
       "      <td>NaN</td>\n",
       "      <td>NaN</td>\n",
       "      <td>NaN</td>\n",
       "      <td>NaN</td>\n",
       "      <td>NaN</td>\n",
       "      <td>NaN</td>\n",
       "      <td>NaN</td>\n",
       "      <td>NaN</td>\n",
       "      <td>NaN</td>\n",
       "      <td>NaN</td>\n",
       "    </tr>\n",
       "  </tbody>\n",
       "</table>\n",
       "<p>5 rows × 86 columns</p>\n",
       "</div>"
      ],
      "text/plain": [
       "   North Indian  Chinese  Assamese  Biryani  Kebab  Fast Food  Mithai  \\\n",
       "0           1.0      1.0       1.0      NaN    NaN        NaN     NaN   \n",
       "1           NaN      NaN       NaN      1.0    1.0        NaN     NaN   \n",
       "2           NaN      NaN       NaN      NaN    NaN        1.0     NaN   \n",
       "3           1.0      1.0       NaN      NaN    NaN        1.0     1.0   \n",
       "4           NaN      1.0       NaN      NaN    NaN        1.0     NaN   \n",
       "\n",
       "   South Indian  Kerala  Seafood  ...  Vietnamese  Awadhi  Indian  French  \\\n",
       "0           NaN     NaN      NaN  ...         NaN     NaN     NaN     NaN   \n",
       "1           NaN     NaN      NaN  ...         NaN     NaN     NaN     NaN   \n",
       "2           NaN     NaN      NaN  ...         NaN     NaN     NaN     NaN   \n",
       "3           1.0     NaN      NaN  ...         NaN     NaN     NaN     NaN   \n",
       "4           NaN     NaN      NaN  ...         NaN     NaN     NaN     NaN   \n",
       "\n",
       "   German  Spanish  North Eastern  Chettinad  African  Iranian  \n",
       "0     NaN      NaN            NaN        NaN      NaN      NaN  \n",
       "1     NaN      NaN            NaN        NaN      NaN      NaN  \n",
       "2     NaN      NaN            NaN        NaN      NaN      NaN  \n",
       "3     NaN      NaN            NaN        NaN      NaN      NaN  \n",
       "4     NaN      NaN            NaN        NaN      NaN      NaN  \n",
       "\n",
       "[5 rows x 86 columns]"
      ]
     },
     "execution_count": 10,
     "metadata": {},
     "output_type": "execute_result"
    }
   ],
   "source": [
    "# test cuisines data one hot encoding\n",
    "\n",
    "for i in range(len(test)):\n",
    "    test['Cuisines'][i] = test['Cuisines'][i].split(',')\n",
    "    test['Cuisines'][i] = [line.strip() for line in test['Cuisines'][i]]\n",
    "test_cuisines_df = pd.DataFrame()\n",
    "\n",
    "for n in range(len(test)):\n",
    "    cuisines = test['Cuisines'][n]\n",
    "    cuisines_df = pd.DataFrame()\n",
    "    for i in cuisines:\n",
    "        cuisines_df[i] = [1]\n",
    "        \n",
    "    test_cuisines_df = pd.concat([test_cuisines_df, cuisines_df], ignore_index=True)\n",
    "    \n",
    "test_cuisines_df.rename(columns ={\"\" : 'None'}, inplace = True )\n",
    "test_cuisines_df.head()   "
   ]
  },
  {
   "cell_type": "code",
   "execution_count": 11,
   "id": "hired-guide",
   "metadata": {
    "execution": {
     "iopub.execute_input": "2021-04-06T11:23:57.848745Z",
     "iopub.status.busy": "2021-04-06T11:23:57.824009Z",
     "iopub.status.idle": "2021-04-06T11:23:57.853317Z",
     "shell.execute_reply": "2021-04-06T11:23:57.852647Z"
    },
    "papermill": {
     "duration": 0.090256,
     "end_time": "2021-04-06T11:23:57.853475",
     "exception": false,
     "start_time": "2021-04-06T11:23:57.763219",
     "status": "completed"
    },
    "tags": []
   },
   "outputs": [
    {
     "data": {
      "text/html": [
       "<div>\n",
       "<style scoped>\n",
       "    .dataframe tbody tr th:only-of-type {\n",
       "        vertical-align: middle;\n",
       "    }\n",
       "\n",
       "    .dataframe tbody tr th {\n",
       "        vertical-align: top;\n",
       "    }\n",
       "\n",
       "    .dataframe thead th {\n",
       "        text-align: right;\n",
       "    }\n",
       "</style>\n",
       "<table border=\"1\" class=\"dataframe\">\n",
       "  <thead>\n",
       "    <tr style=\"text-align: right;\">\n",
       "      <th></th>\n",
       "      <th>North Indian</th>\n",
       "      <th>Chinese</th>\n",
       "      <th>Assamese</th>\n",
       "      <th>Biryani</th>\n",
       "      <th>Kebab</th>\n",
       "      <th>Fast Food</th>\n",
       "      <th>Mithai</th>\n",
       "      <th>South Indian</th>\n",
       "      <th>Kerala</th>\n",
       "      <th>Seafood</th>\n",
       "      <th>...</th>\n",
       "      <th>Cantonese</th>\n",
       "      <th>Charcoal Chicken</th>\n",
       "      <th>Greek</th>\n",
       "      <th>Indonesian</th>\n",
       "      <th>Tamil</th>\n",
       "      <th>Israeli</th>\n",
       "      <th>Bohri</th>\n",
       "      <th>Bubble Tea</th>\n",
       "      <th>Portuguese</th>\n",
       "      <th>Gujarati</th>\n",
       "    </tr>\n",
       "  </thead>\n",
       "  <tbody>\n",
       "    <tr>\n",
       "      <th>0</th>\n",
       "      <td>1.0</td>\n",
       "      <td>1.0</td>\n",
       "      <td>1.0</td>\n",
       "      <td>NaN</td>\n",
       "      <td>NaN</td>\n",
       "      <td>NaN</td>\n",
       "      <td>NaN</td>\n",
       "      <td>NaN</td>\n",
       "      <td>NaN</td>\n",
       "      <td>NaN</td>\n",
       "      <td>...</td>\n",
       "      <td>NaN</td>\n",
       "      <td>NaN</td>\n",
       "      <td>NaN</td>\n",
       "      <td>NaN</td>\n",
       "      <td>NaN</td>\n",
       "      <td>NaN</td>\n",
       "      <td>NaN</td>\n",
       "      <td>NaN</td>\n",
       "      <td>NaN</td>\n",
       "      <td>NaN</td>\n",
       "    </tr>\n",
       "    <tr>\n",
       "      <th>1</th>\n",
       "      <td>NaN</td>\n",
       "      <td>NaN</td>\n",
       "      <td>NaN</td>\n",
       "      <td>1.0</td>\n",
       "      <td>1.0</td>\n",
       "      <td>NaN</td>\n",
       "      <td>NaN</td>\n",
       "      <td>NaN</td>\n",
       "      <td>NaN</td>\n",
       "      <td>NaN</td>\n",
       "      <td>...</td>\n",
       "      <td>NaN</td>\n",
       "      <td>NaN</td>\n",
       "      <td>NaN</td>\n",
       "      <td>NaN</td>\n",
       "      <td>NaN</td>\n",
       "      <td>NaN</td>\n",
       "      <td>NaN</td>\n",
       "      <td>NaN</td>\n",
       "      <td>NaN</td>\n",
       "      <td>NaN</td>\n",
       "    </tr>\n",
       "    <tr>\n",
       "      <th>2</th>\n",
       "      <td>NaN</td>\n",
       "      <td>NaN</td>\n",
       "      <td>NaN</td>\n",
       "      <td>NaN</td>\n",
       "      <td>NaN</td>\n",
       "      <td>1.0</td>\n",
       "      <td>NaN</td>\n",
       "      <td>NaN</td>\n",
       "      <td>NaN</td>\n",
       "      <td>NaN</td>\n",
       "      <td>...</td>\n",
       "      <td>NaN</td>\n",
       "      <td>NaN</td>\n",
       "      <td>NaN</td>\n",
       "      <td>NaN</td>\n",
       "      <td>NaN</td>\n",
       "      <td>NaN</td>\n",
       "      <td>NaN</td>\n",
       "      <td>NaN</td>\n",
       "      <td>NaN</td>\n",
       "      <td>NaN</td>\n",
       "    </tr>\n",
       "    <tr>\n",
       "      <th>3</th>\n",
       "      <td>1.0</td>\n",
       "      <td>1.0</td>\n",
       "      <td>NaN</td>\n",
       "      <td>NaN</td>\n",
       "      <td>NaN</td>\n",
       "      <td>1.0</td>\n",
       "      <td>1.0</td>\n",
       "      <td>1.0</td>\n",
       "      <td>NaN</td>\n",
       "      <td>NaN</td>\n",
       "      <td>...</td>\n",
       "      <td>NaN</td>\n",
       "      <td>NaN</td>\n",
       "      <td>NaN</td>\n",
       "      <td>NaN</td>\n",
       "      <td>NaN</td>\n",
       "      <td>NaN</td>\n",
       "      <td>NaN</td>\n",
       "      <td>NaN</td>\n",
       "      <td>NaN</td>\n",
       "      <td>NaN</td>\n",
       "    </tr>\n",
       "    <tr>\n",
       "      <th>4</th>\n",
       "      <td>NaN</td>\n",
       "      <td>1.0</td>\n",
       "      <td>NaN</td>\n",
       "      <td>NaN</td>\n",
       "      <td>NaN</td>\n",
       "      <td>1.0</td>\n",
       "      <td>NaN</td>\n",
       "      <td>NaN</td>\n",
       "      <td>NaN</td>\n",
       "      <td>NaN</td>\n",
       "      <td>...</td>\n",
       "      <td>NaN</td>\n",
       "      <td>NaN</td>\n",
       "      <td>NaN</td>\n",
       "      <td>NaN</td>\n",
       "      <td>NaN</td>\n",
       "      <td>NaN</td>\n",
       "      <td>NaN</td>\n",
       "      <td>NaN</td>\n",
       "      <td>NaN</td>\n",
       "      <td>NaN</td>\n",
       "    </tr>\n",
       "  </tbody>\n",
       "</table>\n",
       "<p>5 rows × 101 columns</p>\n",
       "</div>"
      ],
      "text/plain": [
       "   North Indian  Chinese  Assamese  Biryani  Kebab  Fast Food  Mithai  \\\n",
       "0           1.0      1.0       1.0      NaN    NaN        NaN     NaN   \n",
       "1           NaN      NaN       NaN      1.0    1.0        NaN     NaN   \n",
       "2           NaN      NaN       NaN      NaN    NaN        1.0     NaN   \n",
       "3           1.0      1.0       NaN      NaN    NaN        1.0     1.0   \n",
       "4           NaN      1.0       NaN      NaN    NaN        1.0     NaN   \n",
       "\n",
       "   South Indian  Kerala  Seafood  ...  Cantonese  Charcoal Chicken  Greek  \\\n",
       "0           NaN     NaN      NaN  ...        NaN               NaN    NaN   \n",
       "1           NaN     NaN      NaN  ...        NaN               NaN    NaN   \n",
       "2           NaN     NaN      NaN  ...        NaN               NaN    NaN   \n",
       "3           1.0     NaN      NaN  ...        NaN               NaN    NaN   \n",
       "4           NaN     NaN      NaN  ...        NaN               NaN    NaN   \n",
       "\n",
       "   Indonesian  Tamil  Israeli  Bohri  Bubble Tea  Portuguese  Gujarati  \n",
       "0         NaN    NaN      NaN    NaN         NaN         NaN       NaN  \n",
       "1         NaN    NaN      NaN    NaN         NaN         NaN       NaN  \n",
       "2         NaN    NaN      NaN    NaN         NaN         NaN       NaN  \n",
       "3         NaN    NaN      NaN    NaN         NaN         NaN       NaN  \n",
       "4         NaN    NaN      NaN    NaN         NaN         NaN       NaN  \n",
       "\n",
       "[5 rows x 101 columns]"
      ]
     },
     "execution_count": 11,
     "metadata": {},
     "output_type": "execute_result"
    }
   ],
   "source": [
    "# Fill columns without each other\n",
    "number = 0\n",
    "ls=[]\n",
    "for i in train_cuisines_df.columns:\n",
    "    ls.append(i)\n",
    "    ls[number].replace(' ','')\n",
    "    number = number+1\n",
    "    \n",
    "number = 0\n",
    "ls2=[]\n",
    "for i in test_cuisines_df.columns:\n",
    "    ls2.append(i)\n",
    "    ls2[number].replace(' ','')\n",
    "    number = number +1\n",
    "    \n",
    "complement = list(set(ls) - set(ls2))\n",
    "complement2 = list(set(ls2) - set(ls))\n",
    "\n",
    "for i in complement2:\n",
    "    train_cuisines_df[i] = np.nan\n",
    "train_cuisines_df.rename(columns ={\"\" : 'None'}, inplace = True )\n",
    "train_cuisines_df.head()   \n",
    "\n",
    "for i in complement:\n",
    "    test_cuisines_df[i] = np.nan\n",
    "test_cuisines_df.rename(columns ={\"\" : 'None'}, inplace = True )\n",
    "test_cuisines_df.head()"
   ]
  },
  {
   "cell_type": "code",
   "execution_count": 12,
   "id": "undefined-haven",
   "metadata": {
    "execution": {
     "iopub.execute_input": "2021-04-06T11:23:57.944960Z",
     "iopub.status.busy": "2021-04-06T11:23:57.944125Z",
     "iopub.status.idle": "2021-04-06T11:23:57.993439Z",
     "shell.execute_reply": "2021-04-06T11:23:57.992561Z"
    },
    "papermill": {
     "duration": 0.099007,
     "end_time": "2021-04-06T11:23:57.993599",
     "exception": false,
     "start_time": "2021-04-06T11:23:57.894592",
     "status": "completed"
    },
    "tags": []
   },
   "outputs": [],
   "source": [
    "# Normalize and fill in missing values\n",
    "train_02=train.copy()\n",
    "del train_02['Cuisines']\n",
    "del train_02['Location']\n",
    "train_02=train_02.drop('Delivery_Time',axis=1)\n",
    "scaler=MinMaxScaler()\n",
    "X_scaled_d = scaler.fit_transform(train_02)\n",
    "X_scaled = pd.DataFrame(X_scaled_d, index=train_02.index, columns=train_02.columns)\n",
    "X_scaled = X_scaled[['Restaurant']]\n",
    "train_02 = pd.merge(X_scaled,train_location_df, left_index =True, right_index =True, how= 'left')\n",
    "train_02 = pd.merge(train_02,train_cuisines_df, left_index =True, right_index =True, how= 'left')\n",
    "train_02 = train_02.fillna(0)\n",
    "x=train_02\n",
    "y=train['Delivery_Time']"
   ]
  },
  {
   "cell_type": "code",
   "execution_count": 13,
   "id": "distinguished-pantyhose",
   "metadata": {
    "execution": {
     "iopub.execute_input": "2021-04-06T11:23:58.086514Z",
     "iopub.status.busy": "2021-04-06T11:23:58.085763Z",
     "iopub.status.idle": "2021-04-06T11:23:58.103339Z",
     "shell.execute_reply": "2021-04-06T11:23:58.102694Z"
    },
    "papermill": {
     "duration": 0.067855,
     "end_time": "2021-04-06T11:23:58.103502",
     "exception": false,
     "start_time": "2021-04-06T11:23:58.035647",
     "status": "completed"
    },
    "tags": []
   },
   "outputs": [],
   "source": [
    "X_train,X_test,y_train,y_test=train_test_split(x,y,test_size=0.3,random_state=50)"
   ]
  },
  {
   "cell_type": "markdown",
   "id": "valued-motion",
   "metadata": {
    "papermill": {
     "duration": 0.041124,
     "end_time": "2021-04-06T11:23:58.186059",
     "exception": false,
     "start_time": "2021-04-06T11:23:58.144935",
     "status": "completed"
    },
    "tags": []
   },
   "source": [
    "#  LogisticRegression "
   ]
  },
  {
   "cell_type": "code",
   "execution_count": 14,
   "id": "worldwide-stress",
   "metadata": {
    "execution": {
     "iopub.execute_input": "2021-04-06T11:23:58.278193Z",
     "iopub.status.busy": "2021-04-06T11:23:58.277424Z",
     "iopub.status.idle": "2021-04-06T11:24:12.081262Z",
     "shell.execute_reply": "2021-04-06T11:24:12.082706Z"
    },
    "papermill": {
     "duration": 13.855595,
     "end_time": "2021-04-06T11:24:12.082988",
     "exception": false,
     "start_time": "2021-04-06T11:23:58.227393",
     "status": "completed"
    },
    "tags": []
   },
   "outputs": [
    {
     "name": "stdout",
     "output_type": "stream",
     "text": [
      "cross-val-score \n",
      "[0.65894466 0.66924067 0.67310167 0.65122265 0.64993565 0.66365979\n",
      " 0.67139175 0.66237113 0.65335052 0.68170103]\n",
      "cross-val-score.mean \n",
      "0.663\n"
     ]
    }
   ],
   "source": [
    "model_lr = LogisticRegression()\n",
    "model_lr.fit(X_train, y_train)\n",
    "scores = cross_val_score(model_lr, X_train,y_train, cv=10) # model, train, target, cross validation\n",
    "print('cross-val-score \\n{}'.format(scores))\n",
    "print('cross-val-score.mean \\n{:.3f}'.format(scores.mean()))"
   ]
  },
  {
   "cell_type": "code",
   "execution_count": 15,
   "id": "textile-disease",
   "metadata": {
    "execution": {
     "iopub.execute_input": "2021-04-06T11:24:12.221214Z",
     "iopub.status.busy": "2021-04-06T11:24:12.219997Z",
     "iopub.status.idle": "2021-04-06T11:24:12.251683Z",
     "shell.execute_reply": "2021-04-06T11:24:12.252703Z"
    },
    "papermill": {
     "duration": 0.094565,
     "end_time": "2021-04-06T11:24:12.252968",
     "exception": false,
     "start_time": "2021-04-06T11:24:12.158403",
     "status": "completed"
    },
    "tags": []
   },
   "outputs": [
    {
     "name": "stdout",
     "output_type": "stream",
     "text": [
      "Test Accuracy: 68.07%\n",
      "              precision    recall  f1-score   support\n",
      "\n",
      "          20       0.00      0.00      0.00         3\n",
      "          30       0.69      0.97      0.81      2265\n",
      "          45       0.46      0.10      0.16       766\n",
      "          65       0.14      0.01      0.01       271\n",
      "          80       0.00      0.00      0.00         5\n",
      "         120       0.00      0.00      0.00        19\n",
      "\n",
      "    accuracy                           0.68      3329\n",
      "   macro avg       0.22      0.18      0.16      3329\n",
      "weighted avg       0.59      0.68      0.59      3329\n",
      "\n"
     ]
    }
   ],
   "source": [
    "pred = model_lr.predict(X_test)\n",
    "print(\"Test Accuracy: {}%\".format(round(model_lr.score(X_test, y_test)*100, 2)))\n",
    "print(classification_report(y_test, pred))"
   ]
  },
  {
   "cell_type": "code",
   "execution_count": 16,
   "id": "domestic-amazon",
   "metadata": {
    "execution": {
     "iopub.execute_input": "2021-04-06T11:24:12.403267Z",
     "iopub.status.busy": "2021-04-06T11:24:12.402228Z",
     "iopub.status.idle": "2021-04-06T11:24:12.688995Z",
     "shell.execute_reply": "2021-04-06T11:24:12.689532Z"
    },
    "papermill": {
     "duration": 0.360756,
     "end_time": "2021-04-06T11:24:12.689706",
     "exception": false,
     "start_time": "2021-04-06T11:24:12.328950",
     "status": "completed"
    },
    "tags": []
   },
   "outputs": [
    {
     "data": {
      "image/png": "[encoded data removed]",
      "text/plain": [
       "<Figure size 432x288 with 1 Axes>"
      ]
     },
     "metadata": {
      "needs_background": "light"
     },
     "output_type": "display_data"
    }
   ],
   "source": [
    "model_coef = pd.DataFrame(data=model_lr.coef_[0][:20], index=x.columns[:20], columns=['Model Coefficient'])\n",
    "model_coef.sort_values(by='Model Coefficient', ascending=False, inplace=True)\n",
    "plt.bar(model_coef.index, model_coef['Model Coefficient'])\n",
    "plt.xticks(rotation=90)\n",
    "plt.grid()\n",
    "plt.show()"
   ]
  },
  {
   "cell_type": "markdown",
   "id": "worth-recommendation",
   "metadata": {
    "papermill": {
     "duration": 0.043327,
     "end_time": "2021-04-06T11:24:12.776766",
     "exception": false,
     "start_time": "2021-04-06T11:24:12.733439",
     "status": "completed"
    },
    "tags": []
   },
   "source": [
    "# XGBClassifier"
   ]
  },
  {
   "cell_type": "code",
   "execution_count": 17,
   "id": "compound-response",
   "metadata": {
    "execution": {
     "iopub.execute_input": "2021-04-06T11:24:12.871230Z",
     "iopub.status.busy": "2021-04-06T11:24:12.870413Z",
     "iopub.status.idle": "2021-04-06T11:26:12.387349Z",
     "shell.execute_reply": "2021-04-06T11:26:12.387944Z"
    },
    "papermill": {
     "duration": 119.567901,
     "end_time": "2021-04-06T11:26:12.388165",
     "exception": false,
     "start_time": "2021-04-06T11:24:12.820264",
     "status": "completed"
    },
    "tags": []
   },
   "outputs": [
    {
     "name": "stdout",
     "output_type": "stream",
     "text": [
      "[11:24:13] WARNING: ../src/learner.cc:1061: Starting in XGBoost 1.3.0, the default evaluation metric used with the objective 'multi:softprob' was changed from 'merror' to 'mlogloss'. Explicitly set eval_metric if you'd like to restore the old behavior.\n",
      "[11:24:24] WARNING: ../src/learner.cc:1061: Starting in XGBoost 1.3.0, the default evaluation metric used with the objective 'multi:softprob' was changed from 'merror' to 'mlogloss'. Explicitly set eval_metric if you'd like to restore the old behavior.\n",
      "[11:24:35] WARNING: ../src/learner.cc:1061: Starting in XGBoost 1.3.0, the default evaluation metric used with the objective 'multi:softprob' was changed from 'merror' to 'mlogloss'. Explicitly set eval_metric if you'd like to restore the old behavior.\n",
      "[11:24:46] WARNING: ../src/learner.cc:1061: Starting in XGBoost 1.3.0, the default evaluation metric used with the objective 'multi:softprob' was changed from 'merror' to 'mlogloss'. Explicitly set eval_metric if you'd like to restore the old behavior.\n",
      "[11:24:57] WARNING: ../src/learner.cc:1061: Starting in XGBoost 1.3.0, the default evaluation metric used with the objective 'multi:softprob' was changed from 'merror' to 'mlogloss'. Explicitly set eval_metric if you'd like to restore the old behavior.\n",
      "[11:25:07] WARNING: ../src/learner.cc:1061: Starting in XGBoost 1.3.0, the default evaluation metric used with the objective 'multi:softprob' was changed from 'merror' to 'mlogloss'. Explicitly set eval_metric if you'd like to restore the old behavior.\n",
      "[11:25:18] WARNING: ../src/learner.cc:1061: Starting in XGBoost 1.3.0, the default evaluation metric used with the objective 'multi:softprob' was changed from 'merror' to 'mlogloss'. Explicitly set eval_metric if you'd like to restore the old behavior.\n",
      "[11:25:29] WARNING: ../src/learner.cc:1061: Starting in XGBoost 1.3.0, the default evaluation metric used with the objective 'multi:softprob' was changed from 'merror' to 'mlogloss'. Explicitly set eval_metric if you'd like to restore the old behavior.\n",
      "[11:25:39] WARNING: ../src/learner.cc:1061: Starting in XGBoost 1.3.0, the default evaluation metric used with the objective 'multi:softprob' was changed from 'merror' to 'mlogloss'. Explicitly set eval_metric if you'd like to restore the old behavior.\n",
      "[11:25:51] WARNING: ../src/learner.cc:1061: Starting in XGBoost 1.3.0, the default evaluation metric used with the objective 'multi:softprob' was changed from 'merror' to 'mlogloss'. Explicitly set eval_metric if you'd like to restore the old behavior.\n",
      "[11:26:01] WARNING: ../src/learner.cc:1061: Starting in XGBoost 1.3.0, the default evaluation metric used with the objective 'multi:softprob' was changed from 'merror' to 'mlogloss'. Explicitly set eval_metric if you'd like to restore the old behavior.\n",
      "cross-val-score \n",
      "[0.67953668 0.68597169 0.68854569 0.66537967 0.67052767 0.67268041\n",
      " 0.68556701 0.68427835 0.68685567 0.67654639]\n",
      "cross-val-score.mean \n",
      "0.680\n"
     ]
    }
   ],
   "source": [
    "model_xgb = XGBClassifier()\n",
    "train_X = X_train.values\n",
    "model_xgb.fit(train_X, y_train)\n",
    "scores = cross_val_score(model_xgb, train_X,y_train, cv=10) # model, train, target, cross validation\n",
    "print('cross-val-score \\n{}'.format(scores))\n",
    "print('cross-val-score.mean \\n{:.3f}'.format(scores.mean()))"
   ]
  },
  {
   "cell_type": "code",
   "execution_count": 18,
   "id": "adjusted-update",
   "metadata": {
    "execution": {
     "iopub.execute_input": "2021-04-06T11:26:12.491345Z",
     "iopub.status.busy": "2021-04-06T11:26:12.490646Z",
     "iopub.status.idle": "2021-04-06T11:26:12.567013Z",
     "shell.execute_reply": "2021-04-06T11:26:12.567618Z"
    },
    "papermill": {
     "duration": 0.130386,
     "end_time": "2021-04-06T11:26:12.567796",
     "exception": false,
     "start_time": "2021-04-06T11:26:12.437410",
     "status": "completed"
    },
    "tags": []
   },
   "outputs": [
    {
     "name": "stdout",
     "output_type": "stream",
     "text": [
      "Test Accuracy: 69.36%\n",
      "              precision    recall  f1-score   support\n",
      "\n",
      "          20       0.00      0.00      0.00         3\n",
      "          30       0.72      0.94      0.81      2265\n",
      "          45       0.49      0.20      0.29       766\n",
      "          65       0.46      0.10      0.16       271\n",
      "          80       1.00      0.20      0.33         5\n",
      "         120       0.55      0.32      0.40        19\n",
      "\n",
      "    accuracy                           0.69      3329\n",
      "   macro avg       0.54      0.29      0.33      3329\n",
      "weighted avg       0.65      0.69      0.64      3329\n",
      "\n"
     ]
    }
   ],
   "source": [
    "test_X = X_test.values\n",
    "pred = model_xgb.predict(test_X)\n",
    "print(\"Test Accuracy: {}%\".format(round(model_xgb.score(test_X, y_test)*100, 2)))\n",
    "\n",
    "print(classification_report(y_test, pred))"
   ]
  },
  {
   "cell_type": "code",
   "execution_count": 19,
   "id": "endless-sigma",
   "metadata": {
    "execution": {
     "iopub.execute_input": "2021-04-06T11:26:12.667533Z",
     "iopub.status.busy": "2021-04-06T11:26:12.666812Z",
     "iopub.status.idle": "2021-04-06T11:26:13.219803Z",
     "shell.execute_reply": "2021-04-06T11:26:13.220431Z"
    },
    "papermill": {
     "duration": 0.605013,
     "end_time": "2021-04-06T11:26:13.220621",
     "exception": false,
     "start_time": "2021-04-06T11:26:12.615608",
     "status": "completed"
    },
    "tags": []
   },
   "outputs": [
    {
     "data": {
      "image/png": "[encoded data removed]",
      "text/plain": [
       "<Figure size 720x720 with 1 Axes>"
      ]
     },
     "metadata": {
      "needs_background": "light"
     },
     "output_type": "display_data"
    }
   ],
   "source": [
    "fig = plt.figure(figsize=(10, 10))\n",
    "\n",
    "model_coef = pd.DataFrame(data=model_xgb.feature_importances_, index=x.columns, columns=['Model Coefficient'])\n",
    "model_coef.sort_values(by='Model Coefficient', ascending=False, inplace=True)\n",
    "plt.barh(model_coef.index[:30], model_coef['Model Coefficient'][:30])\n",
    "plt.xticks(rotation=90)\n",
    "plt.grid()\n",
    "plt.show()"
   ]
  },
  {
   "cell_type": "markdown",
   "id": "royal-input",
   "metadata": {
    "papermill": {
     "duration": 0.050278,
     "end_time": "2021-04-06T11:26:13.320293",
     "exception": false,
     "start_time": "2021-04-06T11:26:13.270015",
     "status": "completed"
    },
    "tags": []
   },
   "source": [
    "# DecisionTreeClassifier"
   ]
  },
  {
   "cell_type": "code",
   "execution_count": 20,
   "id": "detailed-borough",
   "metadata": {
    "execution": {
     "iopub.execute_input": "2021-04-06T11:26:13.425925Z",
     "iopub.status.busy": "2021-04-06T11:26:13.425267Z",
     "iopub.status.idle": "2021-04-06T11:26:14.931101Z",
     "shell.execute_reply": "2021-04-06T11:26:14.931783Z"
    },
    "papermill": {
     "duration": 1.561458,
     "end_time": "2021-04-06T11:26:14.931969",
     "exception": false,
     "start_time": "2021-04-06T11:26:13.370511",
     "status": "completed"
    },
    "tags": []
   },
   "outputs": [
    {
     "name": "stdout",
     "output_type": "stream",
     "text": [
      "cross-val-score \n",
      "[0.62934363 0.63835264 0.60875161 0.6023166  0.6023166  0.62371134\n",
      " 0.63273196 0.60180412 0.63015464 0.5992268 ]\n",
      "cross-val-score.mean \n",
      "0.617\n"
     ]
    }
   ],
   "source": [
    "dt = DecisionTreeClassifier()\n",
    "dt.fit(X_train, y_train)\n",
    "scores = cross_val_score(dt, X_train,y_train, cv=10) # model, train, target, cross validation\n",
    "print('cross-val-score \\n{}'.format(scores))\n",
    "print('cross-val-score.mean \\n{:.3f}'.format(scores.mean()))"
   ]
  },
  {
   "cell_type": "code",
   "execution_count": 21,
   "id": "linear-silly",
   "metadata": {
    "execution": {
     "iopub.execute_input": "2021-04-06T11:26:15.041714Z",
     "iopub.status.busy": "2021-04-06T11:26:15.040873Z",
     "iopub.status.idle": "2021-04-06T11:26:15.062965Z",
     "shell.execute_reply": "2021-04-06T11:26:15.063491Z"
    },
    "papermill": {
     "duration": 0.08184,
     "end_time": "2021-04-06T11:26:15.063685",
     "exception": false,
     "start_time": "2021-04-06T11:26:14.981845",
     "status": "completed"
    },
    "tags": []
   },
   "outputs": [
    {
     "name": "stdout",
     "output_type": "stream",
     "text": [
      "Test Accuracy: 63.23%\n",
      "              precision    recall  f1-score   support\n",
      "\n",
      "          10       0.00      0.00      0.00         0\n",
      "          20       0.00      0.00      0.00         3\n",
      "          30       0.76      0.76      0.76      2265\n",
      "          45       0.40      0.40      0.40       766\n",
      "          65       0.27      0.27      0.27       271\n",
      "          80       0.50      0.20      0.29         5\n",
      "         120       0.30      0.32      0.31        19\n",
      "\n",
      "    accuracy                           0.63      3329\n",
      "   macro avg       0.32      0.28      0.29      3329\n",
      "weighted avg       0.63      0.63      0.63      3329\n",
      "\n"
     ]
    }
   ],
   "source": [
    "pred = dt.predict(X_test)\n",
    "print(\"Test Accuracy: {}%\".format(round(dt.score(X_test, y_test)*100, 2)))\n",
    "print(classification_report(y_test, pred))"
   ]
  },
  {
   "cell_type": "code",
   "execution_count": 22,
   "id": "terminal-workplace",
   "metadata": {
    "execution": {
     "iopub.execute_input": "2021-04-06T11:26:15.173740Z",
     "iopub.status.busy": "2021-04-06T11:26:15.172958Z",
     "iopub.status.idle": "2021-04-06T11:26:15.518520Z",
     "shell.execute_reply": "2021-04-06T11:26:15.517930Z"
    },
    "papermill": {
     "duration": 0.403486,
     "end_time": "2021-04-06T11:26:15.518706",
     "exception": false,
     "start_time": "2021-04-06T11:26:15.115220",
     "status": "completed"
    },
    "tags": []
   },
   "outputs": [
    {
     "data": {
      "image/png": "[encoded data removed]",
      "text/plain": [
       "<Figure size 720x720 with 1 Axes>"
      ]
     },
     "metadata": {
      "needs_background": "light"
     },
     "output_type": "display_data"
    }
   ],
   "source": [
    "fig = plt.figure(figsize=(10, 10))\n",
    "\n",
    "model_coef = pd.DataFrame(data=dt.feature_importances_, index=x.columns, columns=['Model Coefficient'])\n",
    "model_coef.sort_values(by='Model Coefficient', ascending=False, inplace=True)\n",
    "plt.barh(model_coef.index[:30], model_coef['Model Coefficient'][:30])\n",
    "plt.xticks(rotation=90)\n",
    "plt.grid()\n",
    "plt.show()"
   ]
  },
  {
   "cell_type": "markdown",
   "id": "vocational-wales",
   "metadata": {
    "papermill": {
     "duration": 0.051305,
     "end_time": "2021-04-06T11:26:15.621899",
     "exception": false,
     "start_time": "2021-04-06T11:26:15.570594",
     "status": "completed"
    },
    "tags": []
   },
   "source": [
    "# KNN"
   ]
  },
  {
   "cell_type": "code",
   "execution_count": 23,
   "id": "documentary-seminar",
   "metadata": {
    "execution": {
     "iopub.execute_input": "2021-04-06T11:26:15.736388Z",
     "iopub.status.busy": "2021-04-06T11:26:15.735625Z",
     "iopub.status.idle": "2021-04-06T11:26:36.344936Z",
     "shell.execute_reply": "2021-04-06T11:26:36.344409Z"
    },
    "papermill": {
     "duration": 20.671701,
     "end_time": "2021-04-06T11:26:36.345116",
     "exception": false,
     "start_time": "2021-04-06T11:26:15.673415",
     "status": "completed"
    },
    "tags": []
   },
   "outputs": [
    {
     "name": "stdout",
     "output_type": "stream",
     "text": [
      "Best KNN Value: 8\n",
      "Test Accuracy: 68%\n"
     ]
    }
   ],
   "source": [
    "best_Kvalue = 0\n",
    "best_score = 0\n",
    "for i in range(2,15):\n",
    "    knn = KNeighborsClassifier(n_neighbors=i)\n",
    "    knn.fit(X_train, y_train)\n",
    "    pred = knn.predict(X_test)\n",
    "    score = round(knn.score(X_test, y_test)*100,2)\n",
    "#     print(f\"Test Accuracy: {score}%, knn number {i}\")\n",
    "    if score > best_score:\n",
    "        \n",
    "        best_score = round(score)\n",
    "        best_Kvalue = i\n",
    "        \n",
    "print(f\"Best KNN Value: {best_Kvalue}\")\n",
    "print(f\"Test Accuracy: {best_score}%\")"
   ]
  },
  {
   "cell_type": "code",
   "execution_count": 24,
   "id": "urban-moore",
   "metadata": {
    "execution": {
     "iopub.execute_input": "2021-04-06T11:26:36.458016Z",
     "iopub.status.busy": "2021-04-06T11:26:36.457336Z",
     "iopub.status.idle": "2021-04-06T11:26:37.275966Z",
     "shell.execute_reply": "2021-04-06T11:26:37.276513Z"
    },
    "papermill": {
     "duration": 0.8795,
     "end_time": "2021-04-06T11:26:37.276716",
     "exception": false,
     "start_time": "2021-04-06T11:26:36.397216",
     "status": "completed"
    },
    "tags": []
   },
   "outputs": [
    {
     "name": "stdout",
     "output_type": "stream",
     "text": [
      "KNN Classifier report: \n",
      "\n",
      "               precision    recall  f1-score   support\n",
      "\n",
      "          20       0.00      0.00      0.00         3\n",
      "          30       0.69      0.95      0.80      2265\n",
      "          45       0.40      0.10      0.16       766\n",
      "          65       0.29      0.02      0.04       271\n",
      "          80       0.00      0.00      0.00         5\n",
      "         120       1.00      0.05      0.10        19\n",
      "\n",
      "    accuracy                           0.68      3329\n",
      "   macro avg       0.40      0.19      0.18      3329\n",
      "weighted avg       0.59      0.68      0.59      3329\n",
      "\n"
     ]
    }
   ],
   "source": [
    "knn = KNeighborsClassifier(n_neighbors=best_Kvalue)\n",
    "knn.fit(X_train, y_train)\n",
    "pred = knn.predict(X_test)\n",
    "print(\"KNN Classifier report: \\n\\n\", classification_report(y_test, pred))"
   ]
  },
  {
   "cell_type": "markdown",
   "id": "crude-paris",
   "metadata": {
    "papermill": {
     "duration": 0.052028,
     "end_time": "2021-04-06T11:26:37.381064",
     "exception": false,
     "start_time": "2021-04-06T11:26:37.329036",
     "status": "completed"
    },
    "tags": []
   },
   "source": [
    "# SVM"
   ]
  },
  {
   "cell_type": "code",
   "execution_count": 25,
   "id": "convinced-senior",
   "metadata": {
    "execution": {
     "iopub.execute_input": "2021-04-06T11:26:37.496311Z",
     "iopub.status.busy": "2021-04-06T11:26:37.495619Z",
     "iopub.status.idle": "2021-04-06T11:27:55.521896Z",
     "shell.execute_reply": "2021-04-06T11:27:55.522438Z"
    },
    "papermill": {
     "duration": 78.089007,
     "end_time": "2021-04-06T11:27:55.522628",
     "exception": false,
     "start_time": "2021-04-06T11:26:37.433621",
     "status": "completed"
    },
    "tags": []
   },
   "outputs": [
    {
     "name": "stdout",
     "output_type": "stream",
     "text": [
      "cross-val-score \n",
      "[0.66280566 0.66151866 0.66151866 0.66151866 0.66151866 0.66237113\n",
      " 0.66237113 0.66237113 0.66237113 0.66237113]\n",
      "cross-val-score.mean \n",
      "0.662\n"
     ]
    }
   ],
   "source": [
    "svm = SVC(random_state=42, gamma=\"auto\")\n",
    "svm.fit(X_train, y_train)\n",
    "scores = cross_val_score(svm, X_train,y_train, cv=10) \n",
    "print('cross-val-score \\n{}'.format(scores))\n",
    "print('cross-val-score.mean \\n{:.3f}'.format(scores.mean()))\n"
   ]
  },
  {
   "cell_type": "code",
   "execution_count": 26,
   "id": "third-lingerie",
   "metadata": {
    "execution": {
     "iopub.execute_input": "2021-04-06T11:27:55.637822Z",
     "iopub.status.busy": "2021-04-06T11:27:55.636900Z",
     "iopub.status.idle": "2021-04-06T11:28:04.351144Z",
     "shell.execute_reply": "2021-04-06T11:28:04.350544Z"
    },
    "papermill": {
     "duration": 8.775862,
     "end_time": "2021-04-06T11:28:04.351302",
     "exception": false,
     "start_time": "2021-04-06T11:27:55.575440",
     "status": "completed"
    },
    "tags": []
   },
   "outputs": [
    {
     "name": "stdout",
     "output_type": "stream",
     "text": [
      "Test Accuracy: 68.04%\n",
      "SVM Classifier report: \n",
      "\n",
      "               precision    recall  f1-score   support\n",
      "\n",
      "          20       0.00      0.00      0.00         3\n",
      "          30       0.68      1.00      0.81      2265\n",
      "          45       0.00      0.00      0.00       766\n",
      "          65       0.00      0.00      0.00       271\n",
      "          80       0.00      0.00      0.00         5\n",
      "         120       0.00      0.00      0.00        19\n",
      "\n",
      "    accuracy                           0.68      3329\n",
      "   macro avg       0.11      0.17      0.13      3329\n",
      "weighted avg       0.46      0.68      0.55      3329\n",
      "\n"
     ]
    }
   ],
   "source": [
    "pred = svm.predict(X_test)\n",
    "print(\"Test Accuracy: {}%\".format(round(svm.score(X_test, y_test)*100, 2)))\n",
    "print(\"SVM Classifier report: \\n\\n\", classification_report(y_test, pred))"
   ]
  },
  {
   "cell_type": "markdown",
   "id": "accepting-soldier",
   "metadata": {
    "papermill": {
     "duration": 0.053544,
     "end_time": "2021-04-06T11:28:04.458343",
     "exception": false,
     "start_time": "2021-04-06T11:28:04.404799",
     "status": "completed"
    },
    "tags": []
   },
   "source": [
    "# RandomForestClassifier"
   ]
  },
  {
   "cell_type": "code",
   "execution_count": 27,
   "id": "plastic-corner",
   "metadata": {
    "execution": {
     "iopub.execute_input": "2021-04-06T11:28:04.569575Z",
     "iopub.status.busy": "2021-04-06T11:28:04.568827Z",
     "iopub.status.idle": "2021-04-06T11:28:24.442936Z",
     "shell.execute_reply": "2021-04-06T11:28:24.443508Z"
    },
    "papermill": {
     "duration": 19.931769,
     "end_time": "2021-04-06T11:28:24.443687",
     "exception": false,
     "start_time": "2021-04-06T11:28:04.511918",
     "status": "completed"
    },
    "tags": []
   },
   "outputs": [
    {
     "name": "stdout",
     "output_type": "stream",
     "text": [
      "cross-val-score \n",
      "[0.61904762 0.63320463 0.61518662 0.62676963 0.62033462 0.60824742\n",
      " 0.63530928 0.6121134  0.62886598 0.61984536]\n",
      "cross-val-score.mean \n",
      "0.622\n"
     ]
    }
   ],
   "source": [
    "rf = RandomForestClassifier(n_estimators=100, random_state=42)\n",
    "rf.fit(X_train, y_train)\n",
    "scores = cross_val_score(rf, X_train,y_train, cv=10) \n",
    "print('cross-val-score \\n{}'.format(scores))\n",
    "print('cross-val-score.mean \\n{:.3f}'.format(scores.mean()))\n"
   ]
  },
  {
   "cell_type": "code",
   "execution_count": 28,
   "id": "informed-treasury",
   "metadata": {
    "execution": {
     "iopub.execute_input": "2021-04-06T11:28:24.561853Z",
     "iopub.status.busy": "2021-04-06T11:28:24.561183Z",
     "iopub.status.idle": "2021-04-06T11:28:24.836582Z",
     "shell.execute_reply": "2021-04-06T11:28:24.837063Z"
    },
    "papermill": {
     "duration": 0.339465,
     "end_time": "2021-04-06T11:28:24.837258",
     "exception": false,
     "start_time": "2021-04-06T11:28:24.497793",
     "status": "completed"
    },
    "tags": []
   },
   "outputs": [
    {
     "name": "stdout",
     "output_type": "stream",
     "text": [
      "Test Accuracy: 61.94%\n",
      "Random Forest Classifier report: \n",
      "\n",
      "               precision    recall  f1-score   support\n",
      "\n",
      "          20       0.00      0.00      0.00         3\n",
      "          30       0.71      0.81      0.76      2265\n",
      "          45       0.33      0.25      0.28       766\n",
      "          65       0.18      0.11      0.13       271\n",
      "          80       1.00      0.20      0.33         5\n",
      "         120       0.08      0.05      0.06        19\n",
      "\n",
      "    accuracy                           0.62      3329\n",
      "   macro avg       0.38      0.24      0.26      3329\n",
      "weighted avg       0.58      0.62      0.59      3329\n",
      "\n"
     ]
    }
   ],
   "source": [
    "ypred = rf.predict(X_test)\n",
    "print(\"Test Accuracy: {}%\".format(round(rf.score(X_test, y_test)*100, 2)))\n",
    "print(\"Random Forest Classifier report: \\n\\n\", classification_report(y_test, ypred))"
   ]
  },
  {
   "cell_type": "code",
   "execution_count": 29,
   "id": "silent-liberia",
   "metadata": {
    "execution": {
     "iopub.execute_input": "2021-04-06T11:28:24.955778Z",
     "iopub.status.busy": "2021-04-06T11:28:24.954717Z",
     "iopub.status.idle": "2021-04-06T11:28:25.322165Z",
     "shell.execute_reply": "2021-04-06T11:28:25.322685Z"
    },
    "papermill": {
     "duration": 0.43062,
     "end_time": "2021-04-06T11:28:25.322855",
     "exception": false,
     "start_time": "2021-04-06T11:28:24.892235",
     "status": "completed"
    },
    "tags": []
   },
   "outputs": [
    {
     "data": {
      "image/png": "[encoded data removed]",
      "text/plain": [
       "<Figure size 720x720 with 1 Axes>"
      ]
     },
     "metadata": {
      "needs_background": "light"
     },
     "output_type": "display_data"
    }
   ],
   "source": [
    "fig = plt.figure(figsize=(10, 10))\n",
    "\n",
    "model_coef = pd.DataFrame(data=rf.feature_importances_, index=x.columns, columns=['Model Coefficient'])\n",
    "model_coef.sort_values(by='Model Coefficient', ascending=False, inplace=True)\n",
    "plt.barh(model_coef.index[:30], model_coef['Model Coefficient'][:30])\n",
    "plt.xticks(rotation=90)\n",
    "plt.grid()\n",
    "plt.show()"
   ]
  },
  {
   "cell_type": "markdown",
   "id": "joint-reason",
   "metadata": {
    "papermill": {
     "duration": 0.05508,
     "end_time": "2021-04-06T11:28:25.433278",
     "exception": false,
     "start_time": "2021-04-06T11:28:25.378198",
     "status": "completed"
    },
    "tags": []
   },
   "source": [
    "# AdaBoostClassifier"
   ]
  },
  {
   "cell_type": "code",
   "execution_count": 30,
   "id": "worth-rotation",
   "metadata": {
    "execution": {
     "iopub.execute_input": "2021-04-06T11:28:25.547720Z",
     "iopub.status.busy": "2021-04-06T11:28:25.546791Z",
     "iopub.status.idle": "2021-04-06T11:28:33.850985Z",
     "shell.execute_reply": "2021-04-06T11:28:33.850437Z"
    },
    "papermill": {
     "duration": 8.362626,
     "end_time": "2021-04-06T11:28:33.851156",
     "exception": false,
     "start_time": "2021-04-06T11:28:25.488530",
     "status": "completed"
    },
    "tags": []
   },
   "outputs": [
    {
     "name": "stdout",
     "output_type": "stream",
     "text": [
      "cross-val-score \n",
      "[0.66409266 0.65250965 0.66151866 0.66409266 0.66409266 0.66108247\n",
      " 0.66237113 0.66108247 0.66108247 0.66365979]\n",
      "cross-val-score.mean \n",
      "0.662\n"
     ]
    }
   ],
   "source": [
    "ada=AdaBoostClassifier()\n",
    "ada.fit(X_train, y_train)\n",
    "scores = cross_val_score(ada, X_train,y_train, cv=10) \n",
    "print('cross-val-score \\n{}'.format(scores))\n",
    "print('cross-val-score.mean \\n{:.3f}'.format(scores.mean()))"
   ]
  },
  {
   "cell_type": "code",
   "execution_count": 31,
   "id": "variable-choir",
   "metadata": {
    "execution": {
     "iopub.execute_input": "2021-04-06T11:28:33.975286Z",
     "iopub.status.busy": "2021-04-06T11:28:33.974018Z",
     "iopub.status.idle": "2021-04-06T11:28:34.186823Z",
     "shell.execute_reply": "2021-04-06T11:28:34.186314Z"
    },
    "papermill": {
     "duration": 0.278797,
     "end_time": "2021-04-06T11:28:34.186967",
     "exception": false,
     "start_time": "2021-04-06T11:28:33.908170",
     "status": "completed"
    },
    "tags": []
   },
   "outputs": [
    {
     "name": "stdout",
     "output_type": "stream",
     "text": [
      "Test Accuracy: 67.92%\n",
      "Random Forest Classifier report: \n",
      "\n",
      "               precision    recall  f1-score   support\n",
      "\n",
      "          20       0.00      0.00      0.00         3\n",
      "          30       0.68      1.00      0.81      2265\n",
      "          45       0.38      0.01      0.01       766\n",
      "          65       0.00      0.00      0.00       271\n",
      "          80       0.00      0.00      0.00         5\n",
      "         120       0.00      0.00      0.00        19\n",
      "\n",
      "    accuracy                           0.68      3329\n",
      "   macro avg       0.18      0.17      0.14      3329\n",
      "weighted avg       0.55      0.68      0.55      3329\n",
      "\n"
     ]
    }
   ],
   "source": [
    "ypred = ada.predict(X_test)\n",
    "print(\"Test Accuracy: {}%\".format(round(ada.score(X_test, y_test)*100, 2)))\n",
    "print(\"Random Forest Classifier report: \\n\\n\", classification_report(y_test, ypred))"
   ]
  },
  {
   "cell_type": "code",
   "execution_count": 32,
   "id": "ranking-michigan",
   "metadata": {
    "execution": {
     "iopub.execute_input": "2021-04-06T11:28:34.327392Z",
     "iopub.status.busy": "2021-04-06T11:28:34.316478Z",
     "iopub.status.idle": "2021-04-06T11:28:34.651140Z",
     "shell.execute_reply": "2021-04-06T11:28:34.651592Z"
    },
    "papermill": {
     "duration": 0.408184,
     "end_time": "2021-04-06T11:28:34.651771",
     "exception": false,
     "start_time": "2021-04-06T11:28:34.243587",
     "status": "completed"
    },
    "tags": []
   },
   "outputs": [
    {
     "data": {
      "image/png": "[encoded data removed]",
      "text/plain": [
       "<Figure size 720x720 with 1 Axes>"
      ]
     },
     "metadata": {
      "needs_background": "light"
     },
     "output_type": "display_data"
    }
   ],
   "source": [
    "fig = plt.figure(figsize=(10, 10))\n",
    "\n",
    "model_coef = pd.DataFrame(data=ada.feature_importances_, index=x.columns, columns=['Model Coefficient'])\n",
    "model_coef.sort_values(by='Model Coefficient', ascending=False, inplace=True)\n",
    "plt.barh(model_coef.index[:30], model_coef['Model Coefficient'][:30])\n",
    "plt.xticks(rotation=90)\n",
    "plt.grid()\n",
    "plt.show()"
   ]
  },
  {
   "cell_type": "markdown",
   "id": "oriental-trout",
   "metadata": {
    "papermill": {
     "duration": 0.057585,
     "end_time": "2021-04-06T11:28:34.767084",
     "exception": false,
     "start_time": "2021-04-06T11:28:34.709499",
     "status": "completed"
    },
    "tags": []
   },
   "source": [
    "# BaggingClassifier"
   ]
  },
  {
   "cell_type": "code",
   "execution_count": 33,
   "id": "documentary-female",
   "metadata": {
    "execution": {
     "iopub.execute_input": "2021-04-06T11:28:34.893286Z",
     "iopub.status.busy": "2021-04-06T11:28:34.892317Z",
     "iopub.status.idle": "2021-04-06T11:28:44.285585Z",
     "shell.execute_reply": "2021-04-06T11:28:44.286090Z"
    },
    "papermill": {
     "duration": 9.461538,
     "end_time": "2021-04-06T11:28:44.286276",
     "exception": false,
     "start_time": "2021-04-06T11:28:34.824738",
     "status": "completed"
    },
    "tags": []
   },
   "outputs": [
    {
     "name": "stdout",
     "output_type": "stream",
     "text": [
      "cross-val-score \n",
      "[0.66924067 0.68468468 0.66280566 0.66924067 0.66151866 0.6443299\n",
      " 0.66494845 0.64690722 0.67010309 0.66881443]\n",
      "cross-val-score.mean \n",
      "0.664\n"
     ]
    }
   ],
   "source": [
    "bag=BaggingClassifier()\n",
    "bag.fit(X_train, y_train)\n",
    "scores = cross_val_score(bag, X_train,y_train, cv=10) \n",
    "print('cross-val-score \\n{}'.format(scores))\n",
    "print('cross-val-score.mean \\n{:.3f}'.format(scores.mean()))\n"
   ]
  },
  {
   "cell_type": "code",
   "execution_count": 34,
   "id": "purple-scotland",
   "metadata": {
    "execution": {
     "iopub.execute_input": "2021-04-06T11:28:44.413901Z",
     "iopub.status.busy": "2021-04-06T11:28:44.412773Z",
     "iopub.status.idle": "2021-04-06T11:28:44.476523Z",
     "shell.execute_reply": "2021-04-06T11:28:44.477506Z"
    },
    "papermill": {
     "duration": 0.132543,
     "end_time": "2021-04-06T11:28:44.477807",
     "exception": false,
     "start_time": "2021-04-06T11:28:44.345264",
     "status": "completed"
    },
    "tags": []
   },
   "outputs": [
    {
     "name": "stdout",
     "output_type": "stream",
     "text": [
      "Test Accuracy: 67.8%\n",
      "Random Forest Classifier report: \n",
      "\n",
      "               precision    recall  f1-score   support\n",
      "\n",
      "          20       0.00      0.00      0.00         3\n",
      "          30       0.74      0.87      0.80      2265\n",
      "          45       0.45      0.30      0.36       766\n",
      "          65       0.38      0.17      0.24       271\n",
      "          80       0.50      0.20      0.29         5\n",
      "         120       0.18      0.11      0.13        19\n",
      "\n",
      "    accuracy                           0.68      3329\n",
      "   macro avg       0.37      0.28      0.30      3329\n",
      "weighted avg       0.64      0.68      0.65      3329\n",
      "\n"
     ]
    }
   ],
   "source": [
    "ypred = bag.predict(X_test)\n",
    "print(\"Test Accuracy: {}%\".format(round(bag.score(X_test, y_test)*100, 2)))\n",
    "print(\"Random Forest Classifier report: \\n\\n\", classification_report(y_test, ypred))"
   ]
  },
  {
   "cell_type": "markdown",
   "id": "hindu-austria",
   "metadata": {
    "papermill": {
     "duration": 0.058738,
     "end_time": "2021-04-06T11:28:44.597933",
     "exception": false,
     "start_time": "2021-04-06T11:28:44.539195",
     "status": "completed"
    },
    "tags": []
   },
   "source": [
    "# ExtraTreesClassifier"
   ]
  },
  {
   "cell_type": "code",
   "execution_count": 35,
   "id": "interior-irish",
   "metadata": {
    "execution": {
     "iopub.execute_input": "2021-04-06T11:28:44.727628Z",
     "iopub.status.busy": "2021-04-06T11:28:44.726478Z",
     "iopub.status.idle": "2021-04-06T11:29:10.158525Z",
     "shell.execute_reply": "2021-04-06T11:29:10.159505Z"
    },
    "papermill": {
     "duration": 25.502095,
     "end_time": "2021-04-06T11:29:10.159789",
     "exception": false,
     "start_time": "2021-04-06T11:28:44.657694",
     "status": "completed"
    },
    "tags": []
   },
   "outputs": [
    {
     "name": "stdout",
     "output_type": "stream",
     "text": [
      "cross-val-score \n",
      "[0.6023166  0.5984556  0.58815959 0.5958816  0.6036036  0.59149485\n",
      " 0.61597938 0.59793814 0.60953608 0.58118557]\n",
      "cross-val-score.mean \n",
      "0.598\n"
     ]
    }
   ],
   "source": [
    "xtree=ExtraTreesClassifier()\n",
    "xtree.fit(X_train, y_train)\n",
    "scores = cross_val_score(xtree, X_train,y_train, cv=10) \n",
    "print('cross-val-score \\n{}'.format(scores))\n",
    "print('cross-val-score.mean \\n{:.3f}'.format(scores.mean()))\n"
   ]
  },
  {
   "cell_type": "code",
   "execution_count": 36,
   "id": "indian-peripheral",
   "metadata": {
    "execution": {
     "iopub.execute_input": "2021-04-06T11:29:10.285424Z",
     "iopub.status.busy": "2021-04-06T11:29:10.284734Z",
     "iopub.status.idle": "2021-04-06T11:29:10.610225Z",
     "shell.execute_reply": "2021-04-06T11:29:10.611231Z"
    },
    "papermill": {
     "duration": 0.389898,
     "end_time": "2021-04-06T11:29:10.611618",
     "exception": false,
     "start_time": "2021-04-06T11:29:10.221720",
     "status": "completed"
    },
    "tags": []
   },
   "outputs": [
    {
     "name": "stdout",
     "output_type": "stream",
     "text": [
      "Test Accuracy: 59.93%\n",
      "Random Forest Classifier report: \n",
      "\n",
      "               precision    recall  f1-score   support\n",
      "\n",
      "          20       0.00      0.00      0.00         3\n",
      "          30       0.72      0.76      0.74      2265\n",
      "          45       0.32      0.29      0.31       766\n",
      "          65       0.19      0.15      0.17       271\n",
      "          80       1.00      0.20      0.33         5\n",
      "         120       0.13      0.11      0.12        19\n",
      "\n",
      "    accuracy                           0.60      3329\n",
      "   macro avg       0.39      0.25      0.28      3329\n",
      "weighted avg       0.58      0.60      0.59      3329\n",
      "\n"
     ]
    }
   ],
   "source": [
    "ypred = xtree.predict(X_test)\n",
    "print(\"Test Accuracy: {}%\".format(round(xtree.score(X_test, y_test)*100, 2)))\n",
    "print(\"Random Forest Classifier report: \\n\\n\", classification_report(y_test, ypred))"
   ]
  },
  {
   "cell_type": "code",
   "execution_count": 37,
   "id": "relative-stamp",
   "metadata": {
    "execution": {
     "iopub.execute_input": "2021-04-06T11:29:10.741910Z",
     "iopub.status.busy": "2021-04-06T11:29:10.741223Z",
     "iopub.status.idle": "2021-04-06T11:29:11.242972Z",
     "shell.execute_reply": "2021-04-06T11:29:11.243552Z"
    },
    "papermill": {
     "duration": 0.570583,
     "end_time": "2021-04-06T11:29:11.243728",
     "exception": false,
     "start_time": "2021-04-06T11:29:10.673145",
     "status": "completed"
    },
    "tags": []
   },
   "outputs": [
    {
     "data": {
      "image/png": "[encoded data removed]",
      "text/plain": [
       "<Figure size 720x720 with 1 Axes>"
      ]
     },
     "metadata": {
      "needs_background": "light"
     },
     "output_type": "display_data"
    }
   ],
   "source": [
    "fig = plt.figure(figsize=(10, 10))\n",
    "\n",
    "model_coef = pd.DataFrame(data=xtree.feature_importances_, index=x.columns, columns=['Model Coefficient'])\n",
    "model_coef.sort_values(by='Model Coefficient', ascending=False, inplace=True)\n",
    "plt.barh(model_coef.index[:30], model_coef['Model Coefficient'][:30])\n",
    "plt.xticks(rotation=90)\n",
    "plt.grid()\n",
    "plt.show()"
   ]
  },
  {
   "cell_type": "markdown",
   "id": "unexpected-documentary",
   "metadata": {
    "papermill": {
     "duration": 0.061219,
     "end_time": "2021-04-06T11:29:11.367026",
     "exception": false,
     "start_time": "2021-04-06T11:29:11.305807",
     "status": "completed"
    },
    "tags": []
   },
   "source": [
    "# TEST"
   ]
  },
  {
   "cell_type": "code",
   "execution_count": 38,
   "id": "chief-tuesday",
   "metadata": {
    "execution": {
     "iopub.execute_input": "2021-04-06T11:29:11.501094Z",
     "iopub.status.busy": "2021-04-06T11:29:11.497481Z",
     "iopub.status.idle": "2021-04-06T11:29:11.519148Z",
     "shell.execute_reply": "2021-04-06T11:29:11.518396Z"
    },
    "papermill": {
     "duration": 0.090567,
     "end_time": "2021-04-06T11:29:11.519304",
     "exception": false,
     "start_time": "2021-04-06T11:29:11.428737",
     "status": "completed"
    },
    "tags": []
   },
   "outputs": [],
   "source": [
    "test_02=test.copy()\n",
    "del test_02['Cuisines']\n",
    "del test_02['Location']\n",
    "scaler=MinMaxScaler()\n",
    "X_scaled_d = scaler.fit_transform(test_02)\n",
    "X_scaled = pd.DataFrame(X_scaled_d, index=test_02.index, columns=test_02.columns)\n",
    "X_scaled = X_scaled[['Restaurant']]\n",
    "test_02 = pd.merge(X_scaled,test_location_df, left_index =True, right_index =True, how= 'left')\n",
    "test_02 = pd.merge(test_02,test_cuisines_df, left_index =True, right_index =True, how= 'left')\n",
    "\n",
    "test_02 = test_02.fillna(0)\n",
    "\n",
    "x=test_02\n"
   ]
  },
  {
   "cell_type": "code",
   "execution_count": 39,
   "id": "convenient-revision",
   "metadata": {
    "execution": {
     "iopub.execute_input": "2021-04-06T11:29:11.652061Z",
     "iopub.status.busy": "2021-04-06T11:29:11.651405Z",
     "iopub.status.idle": "2021-04-06T11:29:11.852781Z",
     "shell.execute_reply": "2021-04-06T11:29:11.852089Z"
    },
    "papermill": {
     "duration": 0.271762,
     "end_time": "2021-04-06T11:29:11.853107",
     "exception": false,
     "start_time": "2021-04-06T11:29:11.581345",
     "status": "completed"
    },
    "tags": []
   },
   "outputs": [
    {
     "name": "stdout",
     "output_type": "stream",
     "text": [
      "30     2485\n",
      "45      254\n",
      "65       24\n",
      "20       10\n",
      "120       1\n",
      "Name: 0, dtype: int64\n",
      "0.14383561643835616\n"
     ]
    }
   ],
   "source": [
    "test_predict = rf.predict(x)\n",
    "test_pd =pd.DataFrame(rf.predict(x))\n",
    "print(test_pd[0].value_counts())\n",
    "print(accuracy_score(sample['Delivery_Time'],test_predict))\n"
   ]
  },
  {
   "cell_type": "code",
   "execution_count": 40,
   "id": "disturbed-circus",
   "metadata": {
    "execution": {
     "iopub.execute_input": "2021-04-06T11:29:11.984540Z",
     "iopub.status.busy": "2021-04-06T11:29:11.983757Z",
     "iopub.status.idle": "2021-04-06T11:29:12.040787Z",
     "shell.execute_reply": "2021-04-06T11:29:12.041472Z"
    },
    "papermill": {
     "duration": 0.126074,
     "end_time": "2021-04-06T11:29:12.041689",
     "exception": false,
     "start_time": "2021-04-06T11:29:11.915615",
     "status": "completed"
    },
    "tags": []
   },
   "outputs": [
    {
     "name": "stdout",
     "output_type": "stream",
     "text": [
      "30     2392\n",
      "45      306\n",
      "65       61\n",
      "120      13\n",
      "20        2\n",
      "Name: 0, dtype: int64\n",
      "0.14311463590483056\n"
     ]
    }
   ],
   "source": [
    "#xgb test\n",
    "x_values = x.values\n",
    "test_predict = model_xgb.predict(x_values)\n",
    "test_pd =pd.DataFrame(model_xgb.predict(x_values))\n",
    "print(test_pd[0].value_counts())\n",
    "print(accuracy_score(sample['Delivery_Time'],test_predict))"
   ]
  }
 ],
 "metadata": {
  "kernelspec": {
   "display_name": "Python 3",
   "language": "python",
   "name": "python3"
  },
  "language_info": {
   "codemirror_mode": {
    "name": "ipython",
    "version": 3
   },
   "file_extension": ".py",
   "mimetype": "text/x-python",
   "name": "python",
   "nbconvert_exporter": "python",
   "pygments_lexer": "ipython3",
   "version": "3.7.9"
  },
  "papermill": {
   "default_parameters": {},
   "duration": 555.973312,
   "end_time": "2021-04-06T11:29:12.918711",
   "environment_variables": {},
   "exception": null,
   "input_path": "__notebook__.ipynb",
   "output_path": "__notebook__.ipynb",
   "parameters": {},
   "start_time": "2021-04-06T11:19:56.945399",
   "version": "2.3.2"
  }
 },
 "nbformat": 4,
 "nbformat_minor": 5
}
